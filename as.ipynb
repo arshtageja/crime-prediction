{
  "cells": [
    {
      "metadata": {
        "trusted": true
      },
      "cell_type": "markdown",
      "source": "# import libraries and data"
    },
    {
      "metadata": {
        "trusted": true
      },
      "cell_type": "code",
      "source": "import numpy as np\nimport pandas as pd",
      "execution_count": 1,
      "outputs": []
    },
    {
      "metadata": {
        "trusted": true
      },
      "cell_type": "code",
      "source": "d=pd.read_csv(\"test.csv\")",
      "execution_count": 2,
      "outputs": []
    },
    {
      "metadata": {
        "trusted": true,
        "scrolled": true
      },
      "cell_type": "code",
      "source": "d",
      "execution_count": 3,
      "outputs": [
        {
          "output_type": "execute_result",
          "execution_count": 3,
          "data": {
            "text/html": "<div>\n<style scoped>\n    .dataframe tbody tr th:only-of-type {\n        vertical-align: middle;\n    }\n\n    .dataframe tbody tr th {\n        vertical-align: top;\n    }\n\n    .dataframe thead th {\n        text-align: right;\n    }\n</style>\n<table border=\"1\" class=\"dataframe\">\n  <thead>\n    <tr style=\"text-align: right;\">\n      <th></th>\n      <th>Id</th>\n      <th>Dates</th>\n      <th>DayOfWeek</th>\n      <th>PdDistrict</th>\n      <th>Address</th>\n      <th>X</th>\n      <th>Y</th>\n    </tr>\n  </thead>\n  <tbody>\n    <tr>\n      <th>0</th>\n      <td>0</td>\n      <td>2015-05-10 23:59:00</td>\n      <td>Sunday</td>\n      <td>BAYVIEW</td>\n      <td>2000 Block of THOMAS AV</td>\n      <td>-122.39958770418998</td>\n      <td>37.735051</td>\n    </tr>\n    <tr>\n      <th>1</th>\n      <td>1</td>\n      <td>2015-05-10 23:51:00</td>\n      <td>Sunday</td>\n      <td>BAYVIEW</td>\n      <td>3RD ST / REVERE AV</td>\n      <td>-122.391522893042</td>\n      <td>37.732432</td>\n    </tr>\n    <tr>\n      <th>2</th>\n      <td>2</td>\n      <td>2015-05-10 23:50:00</td>\n      <td>Sunday</td>\n      <td>NORTHERN</td>\n      <td>2000 Block of GOUGH ST</td>\n      <td>-122.426001954961</td>\n      <td>37.792212</td>\n    </tr>\n    <tr>\n      <th>3</th>\n      <td>3</td>\n      <td>2015-05-10 23:45:00</td>\n      <td>Sunday</td>\n      <td>INGLESIDE</td>\n      <td>4700 Block of MISSION ST</td>\n      <td>-122.437393972517</td>\n      <td>37.721412</td>\n    </tr>\n    <tr>\n      <th>4</th>\n      <td>4</td>\n      <td>2015-05-10 23:45:00</td>\n      <td>Sunday</td>\n      <td>INGLESIDE</td>\n      <td>4700 Block of MISSION ST</td>\n      <td>-122.437393972517</td>\n      <td>37.721412</td>\n    </tr>\n    <tr>\n      <th>5</th>\n      <td>5</td>\n      <td>2015-05-10 23:40:00</td>\n      <td>Sunday</td>\n      <td>TARAVAL</td>\n      <td>BROAD ST / CAPITOL AV</td>\n      <td>-122.45902362242902</td>\n      <td>37.713172</td>\n    </tr>\n    <tr>\n      <th>6</th>\n      <td>6</td>\n      <td>2015-05-10 23:30:00</td>\n      <td>Sunday</td>\n      <td>INGLESIDE</td>\n      <td>100 Block of CHENERY ST</td>\n      <td>-122.42561645123001</td>\n      <td>37.739351</td>\n    </tr>\n    <tr>\n      <th>7</th>\n      <td>7</td>\n      <td>2015-05-10 23:30:00</td>\n      <td>Sunday</td>\n      <td>INGLESIDE</td>\n      <td>200 Block of BANKS ST</td>\n      <td>-122.41265203979201</td>\n      <td>37.739750</td>\n    </tr>\n    <tr>\n      <th>8</th>\n      <td>8</td>\n      <td>2015-05-10 23:10:00</td>\n      <td>Sunday</td>\n      <td>MISSION</td>\n      <td>2900 Block of 16TH ST</td>\n      <td>-122.418700097043</td>\n      <td>37.765165</td>\n    </tr>\n    <tr>\n      <th>9</th>\n      <td>9</td>\n      <td>2015-05-10 23:10:00</td>\n      <td>Sunday</td>\n      <td>CENTRAL</td>\n      <td>TAYLOR ST / GREEN ST</td>\n      <td>-122.413934584561</td>\n      <td>37.798886</td>\n    </tr>\n    <tr>\n      <th>10</th>\n      <td>10</td>\n      <td>2015-05-10 23:00:00</td>\n      <td>Sunday</td>\n      <td>INGLESIDE</td>\n      <td>100 Block of PERALTA AV</td>\n      <td>-122.40860777448499</td>\n      <td>37.746787</td>\n    </tr>\n    <tr>\n      <th>11</th>\n      <td>11</td>\n      <td>2015-05-10 23:00:00</td>\n      <td>Sunday</td>\n      <td>MISSION</td>\n      <td>600 Block of FLORIDA ST</td>\n      <td>-122.411093822635</td>\n      <td>37.761048</td>\n    </tr>\n    <tr>\n      <th>12</th>\n      <td>12</td>\n      <td>2015-05-10 23:00:00</td>\n      <td>Sunday</td>\n      <td>MISSION</td>\n      <td>600 Block of FLORIDA ST</td>\n      <td>-122.411093822635</td>\n      <td>37.761048</td>\n    </tr>\n    <tr>\n      <th>13</th>\n      <td>13</td>\n      <td>2015-05-10 23:00:00</td>\n      <td>Sunday</td>\n      <td>CENTRAL</td>\n      <td>200 Block of VALLEJO ST</td>\n      <td>-122.402130610278</td>\n      <td>37.799364</td>\n    </tr>\n    <tr>\n      <th>14</th>\n      <td>14</td>\n      <td>2015-05-10 23:00:00</td>\n      <td>Sunday</td>\n      <td>CENTRAL</td>\n      <td>JEFFERSON ST / HYDE ST</td>\n      <td>-122.420747467177</td>\n      <td>37.807588</td>\n    </tr>\n    <tr>\n      <th>15</th>\n      <td>15</td>\n      <td>2015-05-10 22:50:00</td>\n      <td>Sunday</td>\n      <td>TENDERLOIN</td>\n      <td>GOLDEN GATE AV / HYDE ST</td>\n      <td>-122.415508242782</td>\n      <td>37.781654</td>\n    </tr>\n    <tr>\n      <th>16</th>\n      <td>16</td>\n      <td>2015-05-10 22:36:00</td>\n      <td>Sunday</td>\n      <td>TARAVAL</td>\n      <td>1200 Block of OCEAN AV</td>\n      <td>-122.45567852962401</td>\n      <td>37.723702</td>\n    </tr>\n    <tr>\n      <th>17</th>\n      <td>17</td>\n      <td>2015-05-10 22:00:00</td>\n      <td>Sunday</td>\n      <td>INGLESIDE</td>\n      <td>1200 Block of GIRARD ST</td>\n      <td>-122.400298318649</td>\n      <td>37.717181</td>\n    </tr>\n    <tr>\n      <th>18</th>\n      <td>18</td>\n      <td>2015-05-10 22:00:00</td>\n      <td>Sunday</td>\n      <td>NORTHERN</td>\n      <td>1900 Block of FILLMORE ST</td>\n      <td>-122.433668534709</td>\n      <td>37.787709</td>\n    </tr>\n    <tr>\n      <th>19</th>\n      <td>19</td>\n      <td>2015-05-10 22:00:00</td>\n      <td>Sunday</td>\n      <td>NORTHERN</td>\n      <td>GREEN ST / POLK ST</td>\n      <td>-122.422149614358</td>\n      <td>37.797824</td>\n    </tr>\n    <tr>\n      <th>20</th>\n      <td>20</td>\n      <td>2015-05-10 22:00:00</td>\n      <td>Sunday</td>\n      <td>NORTHERN</td>\n      <td>GREEN ST / POLK ST</td>\n      <td>-122.422149614358</td>\n      <td>37.797824</td>\n    </tr>\n    <tr>\n      <th>21</th>\n      <td>21</td>\n      <td>2015-05-10 22:00:00</td>\n      <td>Sunday</td>\n      <td>MISSION</td>\n      <td>15TH ST / FOLSOM ST</td>\n      <td>-122.415464372874</td>\n      <td>37.766937</td>\n    </tr>\n    <tr>\n      <th>22</th>\n      <td>22</td>\n      <td>2015-05-10 21:54:00</td>\n      <td>Sunday</td>\n      <td>CENTRAL</td>\n      <td>1800 Block of KEARNY ST</td>\n      <td>-122.406820555032</td>\n      <td>37.804828</td>\n    </tr>\n    <tr>\n      <th>23</th>\n      <td>23</td>\n      <td>2015-05-10 21:51:00</td>\n      <td>Sunday</td>\n      <td>INGLESIDE</td>\n      <td>200 Block of PEABODY ST</td>\n      <td>-122.40792248129401</td>\n      <td>37.709004</td>\n    </tr>\n    <tr>\n      <th>24</th>\n      <td>24</td>\n      <td>2015-05-10 21:35:00</td>\n      <td>Sunday</td>\n      <td>NORTHERN</td>\n      <td>500 Block of HAIGHT ST</td>\n      <td>-122.431289969136</td>\n      <td>37.772055</td>\n    </tr>\n    <tr>\n      <th>25</th>\n      <td>25</td>\n      <td>2015-05-10 21:30:00</td>\n      <td>Sunday</td>\n      <td>RICHMOND</td>\n      <td>200 Block of 11TH AV</td>\n      <td>-122.469906688039</td>\n      <td>37.783616</td>\n    </tr>\n    <tr>\n      <th>26</th>\n      <td>26</td>\n      <td>2015-05-10 21:30:00</td>\n      <td>Sunday</td>\n      <td>NORTHERN</td>\n      <td>800 Block of FULTON ST</td>\n      <td>-122.431149073441</td>\n      <td>37.777698</td>\n    </tr>\n    <tr>\n      <th>27</th>\n      <td>27</td>\n      <td>2015-05-10 21:16:00</td>\n      <td>Sunday</td>\n      <td>SOUTHERN</td>\n      <td>800 Block of BRYANT ST</td>\n      <td>-122.40340479147899</td>\n      <td>37.775421</td>\n    </tr>\n    <tr>\n      <th>28</th>\n      <td>28</td>\n      <td>2015-05-10 21:00:00</td>\n      <td>Sunday</td>\n      <td>INGLESIDE</td>\n      <td>300 Block of LOSPALMOS DR</td>\n      <td>-122.45067626133002</td>\n      <td>37.735401</td>\n    </tr>\n    <tr>\n      <th>29</th>\n      <td>29</td>\n      <td>2015-05-10 21:00:00</td>\n      <td>Sunday</td>\n      <td>TARAVAL</td>\n      <td>1800 Block of 15TH AV</td>\n      <td>-122.472130727218</td>\n      <td>37.753391</td>\n    </tr>\n    <tr>\n      <th>...</th>\n      <td>...</td>\n      <td>...</td>\n      <td>...</td>\n      <td>...</td>\n      <td>...</td>\n      <td>...</td>\n      <td>...</td>\n    </tr>\n    <tr>\n      <th>41169</th>\n      <td>41169</td>\n      <td>2014-10-26 01:00:00</td>\n      <td>Sunday</td>\n      <td>SOUTHERN</td>\n      <td>MARKET ST / NEWMONTGOMERY ST</td>\n      <td>-122.402070243227</td>\n      <td>37.788720</td>\n    </tr>\n    <tr>\n      <th>41170</th>\n      <td>41170</td>\n      <td>2014-10-26 01:00:00</td>\n      <td>Sunday</td>\n      <td>SOUTHERN</td>\n      <td>300 Block of 11TH ST</td>\n      <td>-122.413287527194</td>\n      <td>37.771196</td>\n    </tr>\n    <tr>\n      <th>41171</th>\n      <td>41171</td>\n      <td>2014-10-26 01:00:00</td>\n      <td>Sunday</td>\n      <td>BAYVIEW</td>\n      <td>1400 Block of PALOU AV</td>\n      <td>-122.388078475154</td>\n      <td>37.732443</td>\n    </tr>\n    <tr>\n      <th>41172</th>\n      <td>41172</td>\n      <td>2014-10-26 01:00:00</td>\n      <td>Sunday</td>\n      <td>BAYVIEW</td>\n      <td>1400 Block of PALOU AV</td>\n      <td>-122.388078475154</td>\n      <td>37.732443</td>\n    </tr>\n    <tr>\n      <th>41173</th>\n      <td>41173</td>\n      <td>2014-10-26 01:00:00</td>\n      <td>Sunday</td>\n      <td>NORTHERN</td>\n      <td>1300 Block of POLK ST</td>\n      <td>-122.420515681408</td>\n      <td>37.789384</td>\n    </tr>\n    <tr>\n      <th>41174</th>\n      <td>41174</td>\n      <td>2014-10-26 01:00:00</td>\n      <td>Sunday</td>\n      <td>NORTHERN</td>\n      <td>3100 Block of FILLMORE ST</td>\n      <td>-122.43579598944599</td>\n      <td>37.798257</td>\n    </tr>\n    <tr>\n      <th>41175</th>\n      <td>41175</td>\n      <td>2014-10-26 00:56:00</td>\n      <td>Sunday</td>\n      <td>SOUTHERN</td>\n      <td>800 Block of BRYANT ST</td>\n      <td>-122.40340479147899</td>\n      <td>37.775421</td>\n    </tr>\n    <tr>\n      <th>41176</th>\n      <td>41176</td>\n      <td>2014-10-26 00:50:00</td>\n      <td>Sunday</td>\n      <td>CENTRAL</td>\n      <td>STOCKTON ST / VALLEJO ST</td>\n      <td>-122.40880996045401</td>\n      <td>37.798571</td>\n    </tr>\n    <tr>\n      <th>41177</th>\n      <td>41177</td>\n      <td>2014-10-26 00:50:00</td>\n      <td>Sunday</td>\n      <td>BAYVIEW</td>\n      <td>0 Block of DAKOTA ST</td>\n      <td>-122.395635436168</td>\n      <td>37.753565</td>\n    </tr>\n    <tr>\n      <th>41178</th>\n      <td>41178</td>\n      <td>2014-10-26 00:50:00</td>\n      <td>Sunday</td>\n      <td>BAYVIEW</td>\n      <td>0 Block of DAKOTA ST</td>\n      <td>-122.395635436168</td>\n      <td>37.753565</td>\n    </tr>\n    <tr>\n      <th>41179</th>\n      <td>41179</td>\n      <td>2014-10-26 00:45:00</td>\n      <td>Sunday</td>\n      <td>SOUTHERN</td>\n      <td>HOWARD ST / RAUSCH ST</td>\n      <td>-122.410507458268</td>\n      <td>37.777093</td>\n    </tr>\n    <tr>\n      <th>41180</th>\n      <td>41180</td>\n      <td>2014-10-26 00:45:00</td>\n      <td>Sunday</td>\n      <td>MISSION</td>\n      <td>19TH ST / CAPP ST</td>\n      <td>-122.41812008648998</td>\n      <td>37.760301</td>\n    </tr>\n    <tr>\n      <th>41181</th>\n      <td>41181</td>\n      <td>2014-10-26 00:40:00</td>\n      <td>Sunday</td>\n      <td>INGLESIDE</td>\n      <td>200 Block of EXCELSIOR AV</td>\n      <td>-122.43168151491001</td>\n      <td>37.725247</td>\n    </tr>\n    <tr>\n      <th>41182</th>\n      <td>41182</td>\n      <td>2014-10-26 00:38:00</td>\n      <td>Sunday</td>\n      <td>INGLESIDE</td>\n      <td>3100 Block of MISSION ST</td>\n      <td>-122.419374719759</td>\n      <td>37.746504</td>\n    </tr>\n    <tr>\n      <th>41183</th>\n      <td>41183</td>\n      <td>2014-10-26 00:30:00</td>\n      <td>Sunday</td>\n      <td>NORTHERN</td>\n      <td>2000 Block of CHESTNUT ST</td>\n      <td>-122.436797742278</td>\n      <td>37.800803</td>\n    </tr>\n    <tr>\n      <th>41184</th>\n      <td>41184</td>\n      <td>2014-10-26 00:18:00</td>\n      <td>Sunday</td>\n      <td>TENDERLOIN</td>\n      <td>100 Block of EDDY ST</td>\n      <td>-122.41013523637699</td>\n      <td>37.784189</td>\n    </tr>\n    <tr>\n      <th>41185</th>\n      <td>41185</td>\n      <td>2014-10-26 00:10:00</td>\n      <td>Sunday</td>\n      <td>SOUTHERN</td>\n      <td>100 Block of NATOMA ST</td>\n      <td>-122.399826049876</td>\n      <td>37.786301</td>\n    </tr>\n    <tr>\n      <th>41186</th>\n      <td>41186</td>\n      <td>2014-10-26 00:05:00</td>\n      <td>Sunday</td>\n      <td>PARK</td>\n      <td>1400 Block of GROVE ST</td>\n      <td>-122.440504989739</td>\n      <td>37.775661</td>\n    </tr>\n    <tr>\n      <th>41187</th>\n      <td>41187</td>\n      <td>2014-10-26 00:01:00</td>\n      <td>Sunday</td>\n      <td>TARAVAL</td>\n      <td>2300 Block of 24TH AV</td>\n      <td>-122.48118317163001</td>\n      <td>37.743727</td>\n    </tr>\n    <tr>\n      <th>41188</th>\n      <td>41188</td>\n      <td>2014-10-26 00:01:00</td>\n      <td>Sunday</td>\n      <td>PARK</td>\n      <td>HAIGHT ST / ASHBURY ST</td>\n      <td>-122.446933310975</td>\n      <td>37.770006</td>\n    </tr>\n    <tr>\n      <th>41189</th>\n      <td>41189</td>\n      <td>2014-10-26 00:01:00</td>\n      <td>Sunday</td>\n      <td>MISSION</td>\n      <td>VALENCIA ST / DUBOCE AV</td>\n      <td>-122.42236740956301</td>\n      <td>37.769868</td>\n    </tr>\n    <tr>\n      <th>41190</th>\n      <td>41190</td>\n      <td>2014-10-26 00:01:00</td>\n      <td>Sunday</td>\n      <td>NORTHERN</td>\n      <td>WEBSTER ST / FULTON ST</td>\n      <td>-122.429850411503</td>\n      <td>37.777918</td>\n    </tr>\n    <tr>\n      <th>41191</th>\n      <td>41191</td>\n      <td>2014-10-26 00:01:00</td>\n      <td>Sunday</td>\n      <td>TARAVAL</td>\n      <td>2300 Block of 24TH AV</td>\n      <td>-122.48118317163001</td>\n      <td>37.743727</td>\n    </tr>\n    <tr>\n      <th>41192</th>\n      <td>41192</td>\n      <td>2014-10-26 00:01:00</td>\n      <td>Sunday</td>\n      <td>TARAVAL</td>\n      <td>2300 Block of 24TH AV</td>\n      <td>-122.48118317163001</td>\n      <td>37.743727</td>\n    </tr>\n    <tr>\n      <th>41193</th>\n      <td>41193</td>\n      <td>2014-10-26 00:01:00</td>\n      <td>Sunday</td>\n      <td>NORTHERN</td>\n      <td>1000 Block of FRANCISCO ST</td>\n      <td>-122.422472490035</td>\n      <td>37.803569</td>\n    </tr>\n    <tr>\n      <th>41194</th>\n      <td>41194</td>\n      <td>2014-10-26 00:01:00</td>\n      <td>Sunday</td>\n      <td>NORTHERN</td>\n      <td>1000 Block of FRANCISCO ST</td>\n      <td>-122.422472490035</td>\n      <td>37.803569</td>\n    </tr>\n    <tr>\n      <th>41195</th>\n      <td>41195</td>\n      <td>2014-10-26 00:01:00</td>\n      <td>Sunday</td>\n      <td>CENTRAL</td>\n      <td>100 Block of PFEIFFER ST</td>\n      <td>-122.408924999704</td>\n      <td>37.804717</td>\n    </tr>\n    <tr>\n      <th>41196</th>\n      <td>41196</td>\n      <td>2014-10-26 00:01:00</td>\n      <td>Sunday</td>\n      <td>PARK</td>\n      <td>2600 Block of GEARY BL</td>\n      <td>-122.446612978839</td>\n      <td>37.782246</td>\n    </tr>\n    <tr>\n      <th>41197</th>\n      <td>41197</td>\n      <td>2014-10-26 00:01:00</td>\n      <td>Sunday</td>\n      <td>NORTHERN</td>\n      <td>3200 Block of FILLMORE ST</td>\n      <td>-122.43607183338699</td>\n      <td>37.799622</td>\n    </tr>\n    <tr>\n      <th>41198</th>\n      <td>41198</td>\n      <td>2014-10-26 00:01:00</td>\n      <td>Sunday</td>\n      <td>MISSION</td>\n      <td>4100 Block of 18TH ST</td>\n      <td>-</td>\n      <td>NaN</td>\n    </tr>\n  </tbody>\n</table>\n<p>41199 rows × 7 columns</p>\n</div>",
            "text/plain": "          Id                Dates DayOfWeek  PdDistrict  \\\n0          0  2015-05-10 23:59:00    Sunday     BAYVIEW   \n1          1  2015-05-10 23:51:00    Sunday     BAYVIEW   \n2          2  2015-05-10 23:50:00    Sunday    NORTHERN   \n3          3  2015-05-10 23:45:00    Sunday   INGLESIDE   \n4          4  2015-05-10 23:45:00    Sunday   INGLESIDE   \n5          5  2015-05-10 23:40:00    Sunday     TARAVAL   \n6          6  2015-05-10 23:30:00    Sunday   INGLESIDE   \n7          7  2015-05-10 23:30:00    Sunday   INGLESIDE   \n8          8  2015-05-10 23:10:00    Sunday     MISSION   \n9          9  2015-05-10 23:10:00    Sunday     CENTRAL   \n10        10  2015-05-10 23:00:00    Sunday   INGLESIDE   \n11        11  2015-05-10 23:00:00    Sunday     MISSION   \n12        12  2015-05-10 23:00:00    Sunday     MISSION   \n13        13  2015-05-10 23:00:00    Sunday     CENTRAL   \n14        14  2015-05-10 23:00:00    Sunday     CENTRAL   \n15        15  2015-05-10 22:50:00    Sunday  TENDERLOIN   \n16        16  2015-05-10 22:36:00    Sunday     TARAVAL   \n17        17  2015-05-10 22:00:00    Sunday   INGLESIDE   \n18        18  2015-05-10 22:00:00    Sunday    NORTHERN   \n19        19  2015-05-10 22:00:00    Sunday    NORTHERN   \n20        20  2015-05-10 22:00:00    Sunday    NORTHERN   \n21        21  2015-05-10 22:00:00    Sunday     MISSION   \n22        22  2015-05-10 21:54:00    Sunday     CENTRAL   \n23        23  2015-05-10 21:51:00    Sunday   INGLESIDE   \n24        24  2015-05-10 21:35:00    Sunday    NORTHERN   \n25        25  2015-05-10 21:30:00    Sunday    RICHMOND   \n26        26  2015-05-10 21:30:00    Sunday    NORTHERN   \n27        27  2015-05-10 21:16:00    Sunday    SOUTHERN   \n28        28  2015-05-10 21:00:00    Sunday   INGLESIDE   \n29        29  2015-05-10 21:00:00    Sunday     TARAVAL   \n...      ...                  ...       ...         ...   \n41169  41169  2014-10-26 01:00:00    Sunday    SOUTHERN   \n41170  41170  2014-10-26 01:00:00    Sunday    SOUTHERN   \n41171  41171  2014-10-26 01:00:00    Sunday     BAYVIEW   \n41172  41172  2014-10-26 01:00:00    Sunday     BAYVIEW   \n41173  41173  2014-10-26 01:00:00    Sunday    NORTHERN   \n41174  41174  2014-10-26 01:00:00    Sunday    NORTHERN   \n41175  41175  2014-10-26 00:56:00    Sunday    SOUTHERN   \n41176  41176  2014-10-26 00:50:00    Sunday     CENTRAL   \n41177  41177  2014-10-26 00:50:00    Sunday     BAYVIEW   \n41178  41178  2014-10-26 00:50:00    Sunday     BAYVIEW   \n41179  41179  2014-10-26 00:45:00    Sunday    SOUTHERN   \n41180  41180  2014-10-26 00:45:00    Sunday     MISSION   \n41181  41181  2014-10-26 00:40:00    Sunday   INGLESIDE   \n41182  41182  2014-10-26 00:38:00    Sunday   INGLESIDE   \n41183  41183  2014-10-26 00:30:00    Sunday    NORTHERN   \n41184  41184  2014-10-26 00:18:00    Sunday  TENDERLOIN   \n41185  41185  2014-10-26 00:10:00    Sunday    SOUTHERN   \n41186  41186  2014-10-26 00:05:00    Sunday        PARK   \n41187  41187  2014-10-26 00:01:00    Sunday     TARAVAL   \n41188  41188  2014-10-26 00:01:00    Sunday        PARK   \n41189  41189  2014-10-26 00:01:00    Sunday     MISSION   \n41190  41190  2014-10-26 00:01:00    Sunday    NORTHERN   \n41191  41191  2014-10-26 00:01:00    Sunday     TARAVAL   \n41192  41192  2014-10-26 00:01:00    Sunday     TARAVAL   \n41193  41193  2014-10-26 00:01:00    Sunday    NORTHERN   \n41194  41194  2014-10-26 00:01:00    Sunday    NORTHERN   \n41195  41195  2014-10-26 00:01:00    Sunday     CENTRAL   \n41196  41196  2014-10-26 00:01:00    Sunday        PARK   \n41197  41197  2014-10-26 00:01:00    Sunday    NORTHERN   \n41198  41198  2014-10-26 00:01:00    Sunday     MISSION   \n\n                            Address                    X          Y  \n0           2000 Block of THOMAS AV  -122.39958770418998  37.735051  \n1                3RD ST / REVERE AV    -122.391522893042  37.732432  \n2            2000 Block of GOUGH ST    -122.426001954961  37.792212  \n3          4700 Block of MISSION ST    -122.437393972517  37.721412  \n4          4700 Block of MISSION ST    -122.437393972517  37.721412  \n5             BROAD ST / CAPITOL AV  -122.45902362242902  37.713172  \n6           100 Block of CHENERY ST  -122.42561645123001  37.739351  \n7             200 Block of BANKS ST  -122.41265203979201  37.739750  \n8             2900 Block of 16TH ST    -122.418700097043  37.765165  \n9              TAYLOR ST / GREEN ST    -122.413934584561  37.798886  \n10          100 Block of PERALTA AV  -122.40860777448499  37.746787  \n11          600 Block of FLORIDA ST    -122.411093822635  37.761048  \n12          600 Block of FLORIDA ST    -122.411093822635  37.761048  \n13          200 Block of VALLEJO ST    -122.402130610278  37.799364  \n14           JEFFERSON ST / HYDE ST    -122.420747467177  37.807588  \n15         GOLDEN GATE AV / HYDE ST    -122.415508242782  37.781654  \n16           1200 Block of OCEAN AV  -122.45567852962401  37.723702  \n17          1200 Block of GIRARD ST    -122.400298318649  37.717181  \n18        1900 Block of FILLMORE ST    -122.433668534709  37.787709  \n19               GREEN ST / POLK ST    -122.422149614358  37.797824  \n20               GREEN ST / POLK ST    -122.422149614358  37.797824  \n21              15TH ST / FOLSOM ST    -122.415464372874  37.766937  \n22          1800 Block of KEARNY ST    -122.406820555032  37.804828  \n23          200 Block of PEABODY ST  -122.40792248129401  37.709004  \n24           500 Block of HAIGHT ST    -122.431289969136  37.772055  \n25             200 Block of 11TH AV    -122.469906688039  37.783616  \n26           800 Block of FULTON ST    -122.431149073441  37.777698  \n27           800 Block of BRYANT ST  -122.40340479147899  37.775421  \n28        300 Block of LOSPALMOS DR  -122.45067626133002  37.735401  \n29            1800 Block of 15TH AV    -122.472130727218  37.753391  \n...                             ...                  ...        ...  \n41169  MARKET ST / NEWMONTGOMERY ST    -122.402070243227  37.788720  \n41170          300 Block of 11TH ST    -122.413287527194  37.771196  \n41171        1400 Block of PALOU AV    -122.388078475154  37.732443  \n41172        1400 Block of PALOU AV    -122.388078475154  37.732443  \n41173         1300 Block of POLK ST    -122.420515681408  37.789384  \n41174     3100 Block of FILLMORE ST  -122.43579598944599  37.798257  \n41175        800 Block of BRYANT ST  -122.40340479147899  37.775421  \n41176      STOCKTON ST / VALLEJO ST  -122.40880996045401  37.798571  \n41177          0 Block of DAKOTA ST    -122.395635436168  37.753565  \n41178          0 Block of DAKOTA ST    -122.395635436168  37.753565  \n41179         HOWARD ST / RAUSCH ST    -122.410507458268  37.777093  \n41180             19TH ST / CAPP ST  -122.41812008648998  37.760301  \n41181     200 Block of EXCELSIOR AV  -122.43168151491001  37.725247  \n41182      3100 Block of MISSION ST    -122.419374719759  37.746504  \n41183     2000 Block of CHESTNUT ST    -122.436797742278  37.800803  \n41184          100 Block of EDDY ST  -122.41013523637699  37.784189  \n41185        100 Block of NATOMA ST    -122.399826049876  37.786301  \n41186        1400 Block of GROVE ST    -122.440504989739  37.775661  \n41187         2300 Block of 24TH AV  -122.48118317163001  37.743727  \n41188        HAIGHT ST / ASHBURY ST    -122.446933310975  37.770006  \n41189       VALENCIA ST / DUBOCE AV  -122.42236740956301  37.769868  \n41190        WEBSTER ST / FULTON ST    -122.429850411503  37.777918  \n41191         2300 Block of 24TH AV  -122.48118317163001  37.743727  \n41192         2300 Block of 24TH AV  -122.48118317163001  37.743727  \n41193    1000 Block of FRANCISCO ST    -122.422472490035  37.803569  \n41194    1000 Block of FRANCISCO ST    -122.422472490035  37.803569  \n41195      100 Block of PFEIFFER ST    -122.408924999704  37.804717  \n41196        2600 Block of GEARY BL    -122.446612978839  37.782246  \n41197     3200 Block of FILLMORE ST  -122.43607183338699  37.799622  \n41198         4100 Block of 18TH ST                    -        NaN  \n\n[41199 rows x 7 columns]"
          },
          "metadata": {}
        }
      ]
    },
    {
      "metadata": {
        "trusted": true
      },
      "cell_type": "code",
      "source": "",
      "execution_count": null,
      "outputs": []
    },
    {
      "metadata": {
        "trusted": true
      },
      "cell_type": "code",
      "source": "len(d)",
      "execution_count": 4,
      "outputs": [
        {
          "output_type": "execute_result",
          "execution_count": 4,
          "data": {
            "text/plain": "41199"
          },
          "metadata": {}
        }
      ]
    },
    {
      "metadata": {
        "trusted": true
      },
      "cell_type": "code",
      "source": "d=pd.DataFrame(d)",
      "execution_count": 5,
      "outputs": []
    },
    {
      "metadata": {
        "trusted": true,
        "scrolled": true
      },
      "cell_type": "code",
      "source": "d.head(100)",
      "execution_count": 6,
      "outputs": [
        {
          "output_type": "execute_result",
          "execution_count": 6,
          "data": {
            "text/html": "<div>\n<style scoped>\n    .dataframe tbody tr th:only-of-type {\n        vertical-align: middle;\n    }\n\n    .dataframe tbody tr th {\n        vertical-align: top;\n    }\n\n    .dataframe thead th {\n        text-align: right;\n    }\n</style>\n<table border=\"1\" class=\"dataframe\">\n  <thead>\n    <tr style=\"text-align: right;\">\n      <th></th>\n      <th>Id</th>\n      <th>Dates</th>\n      <th>DayOfWeek</th>\n      <th>PdDistrict</th>\n      <th>Address</th>\n      <th>X</th>\n      <th>Y</th>\n    </tr>\n  </thead>\n  <tbody>\n    <tr>\n      <th>0</th>\n      <td>0</td>\n      <td>2015-05-10 23:59:00</td>\n      <td>Sunday</td>\n      <td>BAYVIEW</td>\n      <td>2000 Block of THOMAS AV</td>\n      <td>-122.39958770418998</td>\n      <td>37.735051</td>\n    </tr>\n    <tr>\n      <th>1</th>\n      <td>1</td>\n      <td>2015-05-10 23:51:00</td>\n      <td>Sunday</td>\n      <td>BAYVIEW</td>\n      <td>3RD ST / REVERE AV</td>\n      <td>-122.391522893042</td>\n      <td>37.732432</td>\n    </tr>\n    <tr>\n      <th>2</th>\n      <td>2</td>\n      <td>2015-05-10 23:50:00</td>\n      <td>Sunday</td>\n      <td>NORTHERN</td>\n      <td>2000 Block of GOUGH ST</td>\n      <td>-122.426001954961</td>\n      <td>37.792212</td>\n    </tr>\n    <tr>\n      <th>3</th>\n      <td>3</td>\n      <td>2015-05-10 23:45:00</td>\n      <td>Sunday</td>\n      <td>INGLESIDE</td>\n      <td>4700 Block of MISSION ST</td>\n      <td>-122.437393972517</td>\n      <td>37.721412</td>\n    </tr>\n    <tr>\n      <th>4</th>\n      <td>4</td>\n      <td>2015-05-10 23:45:00</td>\n      <td>Sunday</td>\n      <td>INGLESIDE</td>\n      <td>4700 Block of MISSION ST</td>\n      <td>-122.437393972517</td>\n      <td>37.721412</td>\n    </tr>\n    <tr>\n      <th>5</th>\n      <td>5</td>\n      <td>2015-05-10 23:40:00</td>\n      <td>Sunday</td>\n      <td>TARAVAL</td>\n      <td>BROAD ST / CAPITOL AV</td>\n      <td>-122.45902362242902</td>\n      <td>37.713172</td>\n    </tr>\n    <tr>\n      <th>6</th>\n      <td>6</td>\n      <td>2015-05-10 23:30:00</td>\n      <td>Sunday</td>\n      <td>INGLESIDE</td>\n      <td>100 Block of CHENERY ST</td>\n      <td>-122.42561645123001</td>\n      <td>37.739351</td>\n    </tr>\n    <tr>\n      <th>7</th>\n      <td>7</td>\n      <td>2015-05-10 23:30:00</td>\n      <td>Sunday</td>\n      <td>INGLESIDE</td>\n      <td>200 Block of BANKS ST</td>\n      <td>-122.41265203979201</td>\n      <td>37.739750</td>\n    </tr>\n    <tr>\n      <th>8</th>\n      <td>8</td>\n      <td>2015-05-10 23:10:00</td>\n      <td>Sunday</td>\n      <td>MISSION</td>\n      <td>2900 Block of 16TH ST</td>\n      <td>-122.418700097043</td>\n      <td>37.765165</td>\n    </tr>\n    <tr>\n      <th>9</th>\n      <td>9</td>\n      <td>2015-05-10 23:10:00</td>\n      <td>Sunday</td>\n      <td>CENTRAL</td>\n      <td>TAYLOR ST / GREEN ST</td>\n      <td>-122.413934584561</td>\n      <td>37.798886</td>\n    </tr>\n    <tr>\n      <th>10</th>\n      <td>10</td>\n      <td>2015-05-10 23:00:00</td>\n      <td>Sunday</td>\n      <td>INGLESIDE</td>\n      <td>100 Block of PERALTA AV</td>\n      <td>-122.40860777448499</td>\n      <td>37.746787</td>\n    </tr>\n    <tr>\n      <th>11</th>\n      <td>11</td>\n      <td>2015-05-10 23:00:00</td>\n      <td>Sunday</td>\n      <td>MISSION</td>\n      <td>600 Block of FLORIDA ST</td>\n      <td>-122.411093822635</td>\n      <td>37.761048</td>\n    </tr>\n    <tr>\n      <th>12</th>\n      <td>12</td>\n      <td>2015-05-10 23:00:00</td>\n      <td>Sunday</td>\n      <td>MISSION</td>\n      <td>600 Block of FLORIDA ST</td>\n      <td>-122.411093822635</td>\n      <td>37.761048</td>\n    </tr>\n    <tr>\n      <th>13</th>\n      <td>13</td>\n      <td>2015-05-10 23:00:00</td>\n      <td>Sunday</td>\n      <td>CENTRAL</td>\n      <td>200 Block of VALLEJO ST</td>\n      <td>-122.402130610278</td>\n      <td>37.799364</td>\n    </tr>\n    <tr>\n      <th>14</th>\n      <td>14</td>\n      <td>2015-05-10 23:00:00</td>\n      <td>Sunday</td>\n      <td>CENTRAL</td>\n      <td>JEFFERSON ST / HYDE ST</td>\n      <td>-122.420747467177</td>\n      <td>37.807588</td>\n    </tr>\n    <tr>\n      <th>15</th>\n      <td>15</td>\n      <td>2015-05-10 22:50:00</td>\n      <td>Sunday</td>\n      <td>TENDERLOIN</td>\n      <td>GOLDEN GATE AV / HYDE ST</td>\n      <td>-122.415508242782</td>\n      <td>37.781654</td>\n    </tr>\n    <tr>\n      <th>16</th>\n      <td>16</td>\n      <td>2015-05-10 22:36:00</td>\n      <td>Sunday</td>\n      <td>TARAVAL</td>\n      <td>1200 Block of OCEAN AV</td>\n      <td>-122.45567852962401</td>\n      <td>37.723702</td>\n    </tr>\n    <tr>\n      <th>17</th>\n      <td>17</td>\n      <td>2015-05-10 22:00:00</td>\n      <td>Sunday</td>\n      <td>INGLESIDE</td>\n      <td>1200 Block of GIRARD ST</td>\n      <td>-122.400298318649</td>\n      <td>37.717181</td>\n    </tr>\n    <tr>\n      <th>18</th>\n      <td>18</td>\n      <td>2015-05-10 22:00:00</td>\n      <td>Sunday</td>\n      <td>NORTHERN</td>\n      <td>1900 Block of FILLMORE ST</td>\n      <td>-122.433668534709</td>\n      <td>37.787709</td>\n    </tr>\n    <tr>\n      <th>19</th>\n      <td>19</td>\n      <td>2015-05-10 22:00:00</td>\n      <td>Sunday</td>\n      <td>NORTHERN</td>\n      <td>GREEN ST / POLK ST</td>\n      <td>-122.422149614358</td>\n      <td>37.797824</td>\n    </tr>\n    <tr>\n      <th>20</th>\n      <td>20</td>\n      <td>2015-05-10 22:00:00</td>\n      <td>Sunday</td>\n      <td>NORTHERN</td>\n      <td>GREEN ST / POLK ST</td>\n      <td>-122.422149614358</td>\n      <td>37.797824</td>\n    </tr>\n    <tr>\n      <th>21</th>\n      <td>21</td>\n      <td>2015-05-10 22:00:00</td>\n      <td>Sunday</td>\n      <td>MISSION</td>\n      <td>15TH ST / FOLSOM ST</td>\n      <td>-122.415464372874</td>\n      <td>37.766937</td>\n    </tr>\n    <tr>\n      <th>22</th>\n      <td>22</td>\n      <td>2015-05-10 21:54:00</td>\n      <td>Sunday</td>\n      <td>CENTRAL</td>\n      <td>1800 Block of KEARNY ST</td>\n      <td>-122.406820555032</td>\n      <td>37.804828</td>\n    </tr>\n    <tr>\n      <th>23</th>\n      <td>23</td>\n      <td>2015-05-10 21:51:00</td>\n      <td>Sunday</td>\n      <td>INGLESIDE</td>\n      <td>200 Block of PEABODY ST</td>\n      <td>-122.40792248129401</td>\n      <td>37.709004</td>\n    </tr>\n    <tr>\n      <th>24</th>\n      <td>24</td>\n      <td>2015-05-10 21:35:00</td>\n      <td>Sunday</td>\n      <td>NORTHERN</td>\n      <td>500 Block of HAIGHT ST</td>\n      <td>-122.431289969136</td>\n      <td>37.772055</td>\n    </tr>\n    <tr>\n      <th>25</th>\n      <td>25</td>\n      <td>2015-05-10 21:30:00</td>\n      <td>Sunday</td>\n      <td>RICHMOND</td>\n      <td>200 Block of 11TH AV</td>\n      <td>-122.469906688039</td>\n      <td>37.783616</td>\n    </tr>\n    <tr>\n      <th>26</th>\n      <td>26</td>\n      <td>2015-05-10 21:30:00</td>\n      <td>Sunday</td>\n      <td>NORTHERN</td>\n      <td>800 Block of FULTON ST</td>\n      <td>-122.431149073441</td>\n      <td>37.777698</td>\n    </tr>\n    <tr>\n      <th>27</th>\n      <td>27</td>\n      <td>2015-05-10 21:16:00</td>\n      <td>Sunday</td>\n      <td>SOUTHERN</td>\n      <td>800 Block of BRYANT ST</td>\n      <td>-122.40340479147899</td>\n      <td>37.775421</td>\n    </tr>\n    <tr>\n      <th>28</th>\n      <td>28</td>\n      <td>2015-05-10 21:00:00</td>\n      <td>Sunday</td>\n      <td>INGLESIDE</td>\n      <td>300 Block of LOSPALMOS DR</td>\n      <td>-122.45067626133002</td>\n      <td>37.735401</td>\n    </tr>\n    <tr>\n      <th>29</th>\n      <td>29</td>\n      <td>2015-05-10 21:00:00</td>\n      <td>Sunday</td>\n      <td>TARAVAL</td>\n      <td>1800 Block of 15TH AV</td>\n      <td>-122.472130727218</td>\n      <td>37.753391</td>\n    </tr>\n    <tr>\n      <th>...</th>\n      <td>...</td>\n      <td>...</td>\n      <td>...</td>\n      <td>...</td>\n      <td>...</td>\n      <td>...</td>\n      <td>...</td>\n    </tr>\n    <tr>\n      <th>70</th>\n      <td>70</td>\n      <td>2015-05-10 19:00:00</td>\n      <td>Sunday</td>\n      <td>SOUTHERN</td>\n      <td>800 Block of BRYANT ST</td>\n      <td>-122.40340479147899</td>\n      <td>37.775421</td>\n    </tr>\n    <tr>\n      <th>71</th>\n      <td>71</td>\n      <td>2015-05-10 18:58:00</td>\n      <td>Sunday</td>\n      <td>RICHMOND</td>\n      <td>GEARY BL / 28TH AV</td>\n      <td>-122.487946479231</td>\n      <td>37.779944</td>\n    </tr>\n    <tr>\n      <th>72</th>\n      <td>72</td>\n      <td>2015-05-10 18:58:00</td>\n      <td>Sunday</td>\n      <td>RICHMOND</td>\n      <td>GEARY BL / 28TH AV</td>\n      <td>-122.487946479231</td>\n      <td>37.779944</td>\n    </tr>\n    <tr>\n      <th>73</th>\n      <td>73</td>\n      <td>2015-05-10 18:58:00</td>\n      <td>Sunday</td>\n      <td>RICHMOND</td>\n      <td>GEARY BL / 28TH AV</td>\n      <td>-122.487946479231</td>\n      <td>37.779944</td>\n    </tr>\n    <tr>\n      <th>74</th>\n      <td>74</td>\n      <td>2015-05-10 18:52:00</td>\n      <td>Sunday</td>\n      <td>TENDERLOIN</td>\n      <td>OFARRELL ST / POWELL ST</td>\n      <td>-122.408040474858</td>\n      <td>37.786409</td>\n    </tr>\n    <tr>\n      <th>75</th>\n      <td>75</td>\n      <td>2015-05-10 18:45:00</td>\n      <td>Sunday</td>\n      <td>RICHMOND</td>\n      <td>600 Block of 9TH AV</td>\n      <td>-122.467221148771</td>\n      <td>37.776134</td>\n    </tr>\n    <tr>\n      <th>76</th>\n      <td>76</td>\n      <td>2015-05-10 18:30:00</td>\n      <td>Sunday</td>\n      <td>BAYVIEW</td>\n      <td>400 Block of MISSISSIPPI ST</td>\n      <td>-122.39434290268998</td>\n      <td>37.760771</td>\n    </tr>\n    <tr>\n      <th>77</th>\n      <td>77</td>\n      <td>2015-05-10 18:30:00</td>\n      <td>Sunday</td>\n      <td>PARK</td>\n      <td>1200 Block of PAGE ST</td>\n      <td>-122.44139370111401</td>\n      <td>37.771727</td>\n    </tr>\n    <tr>\n      <th>78</th>\n      <td>78</td>\n      <td>2015-05-10 18:30:00</td>\n      <td>Sunday</td>\n      <td>PARK</td>\n      <td>1200 Block of PAGE ST</td>\n      <td>-122.44139370111401</td>\n      <td>37.771727</td>\n    </tr>\n    <tr>\n      <th>79</th>\n      <td>79</td>\n      <td>2015-05-10 18:30:00</td>\n      <td>Sunday</td>\n      <td>PARK</td>\n      <td>2400 Block of GEARY BL</td>\n      <td>-122.44364285254</td>\n      <td>37.782918</td>\n    </tr>\n    <tr>\n      <th>80</th>\n      <td>80</td>\n      <td>2015-05-10 18:30:00</td>\n      <td>Sunday</td>\n      <td>BAYVIEW</td>\n      <td>7TH ST / 16TH ST</td>\n      <td>-122.395062849863</td>\n      <td>37.766544</td>\n    </tr>\n    <tr>\n      <th>81</th>\n      <td>81</td>\n      <td>2015-05-10 18:29:00</td>\n      <td>Sunday</td>\n      <td>MISSION</td>\n      <td>16TH ST / MISSION ST</td>\n      <td>-122.419671780296</td>\n      <td>37.765050</td>\n    </tr>\n    <tr>\n      <th>82</th>\n      <td>82</td>\n      <td>2015-05-10 18:15:00</td>\n      <td>Sunday</td>\n      <td>TARAVAL</td>\n      <td>600 Block of IRVING ST</td>\n      <td>-122.464722568832</td>\n      <td>37.764162</td>\n    </tr>\n    <tr>\n      <th>83</th>\n      <td>83</td>\n      <td>2015-05-10 18:15:00</td>\n      <td>Sunday</td>\n      <td>TARAVAL</td>\n      <td>2300 Block of 42ND AV</td>\n      <td>-122.500466121213</td>\n      <td>37.742874</td>\n    </tr>\n    <tr>\n      <th>84</th>\n      <td>84</td>\n      <td>2015-05-10 18:10:00</td>\n      <td>Sunday</td>\n      <td>RICHMOND</td>\n      <td>FULTON ST / LA PLAYA ST</td>\n      <td>-122.50989299593</td>\n      <td>37.771394</td>\n    </tr>\n    <tr>\n      <th>85</th>\n      <td>85</td>\n      <td>2015-05-10 18:00:00</td>\n      <td>Sunday</td>\n      <td>RICHMOND</td>\n      <td>3900 Block of GEARY BL</td>\n      <td>-122.461603688677</td>\n      <td>37.781018</td>\n    </tr>\n    <tr>\n      <th>86</th>\n      <td>86</td>\n      <td>2015-05-10 18:00:00</td>\n      <td>Sunday</td>\n      <td>RICHMOND</td>\n      <td>3900 Block of GEARY BL</td>\n      <td>-122.461603688677</td>\n      <td>37.781018</td>\n    </tr>\n    <tr>\n      <th>87</th>\n      <td>87</td>\n      <td>2015-05-10 18:00:00</td>\n      <td>Sunday</td>\n      <td>BAYVIEW</td>\n      <td>700 Block of LECONTE AV</td>\n      <td>-122.396677554564</td>\n      <td>37.716722</td>\n    </tr>\n    <tr>\n      <th>88</th>\n      <td>88</td>\n      <td>2015-05-10 17:52:00</td>\n      <td>Sunday</td>\n      <td>CENTRAL</td>\n      <td>GREEN ST / BANNAM PL</td>\n      <td>-122.407702556181</td>\n      <td>37.799663</td>\n    </tr>\n    <tr>\n      <th>89</th>\n      <td>89</td>\n      <td>2015-05-10 17:35:00</td>\n      <td>Sunday</td>\n      <td>NORTHERN</td>\n      <td>400 Block of VANNESS AV</td>\n      <td>-122.42021727334499</td>\n      <td>37.779151</td>\n    </tr>\n    <tr>\n      <th>90</th>\n      <td>90</td>\n      <td>2015-05-10 17:30:00</td>\n      <td>Sunday</td>\n      <td>SOUTHERN</td>\n      <td>800 Block of MARKET ST</td>\n      <td>-122.407633520742</td>\n      <td>37.784189</td>\n    </tr>\n    <tr>\n      <th>91</th>\n      <td>91</td>\n      <td>2015-05-10 17:30:00</td>\n      <td>Sunday</td>\n      <td>SOUTHERN</td>\n      <td>800 Block of MARKET ST</td>\n      <td>-122.407633520742</td>\n      <td>37.784189</td>\n    </tr>\n    <tr>\n      <th>92</th>\n      <td>92</td>\n      <td>2015-05-10 17:30:00</td>\n      <td>Sunday</td>\n      <td>INGLESIDE</td>\n      <td>0 Block of DELANO AV</td>\n      <td>-122.44015982058399</td>\n      <td>37.727094</td>\n    </tr>\n    <tr>\n      <th>93</th>\n      <td>93</td>\n      <td>2015-05-10 17:30:00</td>\n      <td>Sunday</td>\n      <td>MISSION</td>\n      <td>CESAR CHAVEZ ST / POTRERO AV</td>\n      <td>-122.405096871916</td>\n      <td>37.749110</td>\n    </tr>\n    <tr>\n      <th>94</th>\n      <td>94</td>\n      <td>2015-05-10 17:30:00</td>\n      <td>Sunday</td>\n      <td>MISSION</td>\n      <td>CESAR CHAVEZ ST / POTRERO AV</td>\n      <td>-122.405096871916</td>\n      <td>37.749110</td>\n    </tr>\n    <tr>\n      <th>95</th>\n      <td>95</td>\n      <td>2015-05-10 17:30:00</td>\n      <td>Sunday</td>\n      <td>RICHMOND</td>\n      <td>FUNSTON AV / CABRILLO ST</td>\n      <td>-122.471372908785</td>\n      <td>37.775025</td>\n    </tr>\n    <tr>\n      <th>96</th>\n      <td>96</td>\n      <td>2015-05-10 17:30:00</td>\n      <td>Sunday</td>\n      <td>NORTHERN</td>\n      <td>FILLMORE ST / GEARY BL</td>\n      <td>-122.432914603494</td>\n      <td>37.784353</td>\n    </tr>\n    <tr>\n      <th>97</th>\n      <td>97</td>\n      <td>2015-05-10 17:29:00</td>\n      <td>Sunday</td>\n      <td>BAYVIEW</td>\n      <td>1300 Block of THOMAS AV</td>\n      <td>-122.386594164927</td>\n      <td>37.727818</td>\n    </tr>\n    <tr>\n      <th>98</th>\n      <td>98</td>\n      <td>2015-05-10 17:28:00</td>\n      <td>Sunday</td>\n      <td>TARAVAL</td>\n      <td>1800 Block of IRVING ST</td>\n      <td>-122.477696048974</td>\n      <td>37.763592</td>\n    </tr>\n    <tr>\n      <th>99</th>\n      <td>99</td>\n      <td>2015-05-10 17:17:00</td>\n      <td>Sunday</td>\n      <td>SOUTHERN</td>\n      <td>800 Block of BRYANT ST</td>\n      <td>-122.40340479147899</td>\n      <td>37.775421</td>\n    </tr>\n  </tbody>\n</table>\n<p>100 rows × 7 columns</p>\n</div>",
            "text/plain": "    Id                Dates DayOfWeek  PdDistrict  \\\n0    0  2015-05-10 23:59:00    Sunday     BAYVIEW   \n1    1  2015-05-10 23:51:00    Sunday     BAYVIEW   \n2    2  2015-05-10 23:50:00    Sunday    NORTHERN   \n3    3  2015-05-10 23:45:00    Sunday   INGLESIDE   \n4    4  2015-05-10 23:45:00    Sunday   INGLESIDE   \n5    5  2015-05-10 23:40:00    Sunday     TARAVAL   \n6    6  2015-05-10 23:30:00    Sunday   INGLESIDE   \n7    7  2015-05-10 23:30:00    Sunday   INGLESIDE   \n8    8  2015-05-10 23:10:00    Sunday     MISSION   \n9    9  2015-05-10 23:10:00    Sunday     CENTRAL   \n10  10  2015-05-10 23:00:00    Sunday   INGLESIDE   \n11  11  2015-05-10 23:00:00    Sunday     MISSION   \n12  12  2015-05-10 23:00:00    Sunday     MISSION   \n13  13  2015-05-10 23:00:00    Sunday     CENTRAL   \n14  14  2015-05-10 23:00:00    Sunday     CENTRAL   \n15  15  2015-05-10 22:50:00    Sunday  TENDERLOIN   \n16  16  2015-05-10 22:36:00    Sunday     TARAVAL   \n17  17  2015-05-10 22:00:00    Sunday   INGLESIDE   \n18  18  2015-05-10 22:00:00    Sunday    NORTHERN   \n19  19  2015-05-10 22:00:00    Sunday    NORTHERN   \n20  20  2015-05-10 22:00:00    Sunday    NORTHERN   \n21  21  2015-05-10 22:00:00    Sunday     MISSION   \n22  22  2015-05-10 21:54:00    Sunday     CENTRAL   \n23  23  2015-05-10 21:51:00    Sunday   INGLESIDE   \n24  24  2015-05-10 21:35:00    Sunday    NORTHERN   \n25  25  2015-05-10 21:30:00    Sunday    RICHMOND   \n26  26  2015-05-10 21:30:00    Sunday    NORTHERN   \n27  27  2015-05-10 21:16:00    Sunday    SOUTHERN   \n28  28  2015-05-10 21:00:00    Sunday   INGLESIDE   \n29  29  2015-05-10 21:00:00    Sunday     TARAVAL   \n..  ..                  ...       ...         ...   \n70  70  2015-05-10 19:00:00    Sunday    SOUTHERN   \n71  71  2015-05-10 18:58:00    Sunday    RICHMOND   \n72  72  2015-05-10 18:58:00    Sunday    RICHMOND   \n73  73  2015-05-10 18:58:00    Sunday    RICHMOND   \n74  74  2015-05-10 18:52:00    Sunday  TENDERLOIN   \n75  75  2015-05-10 18:45:00    Sunday    RICHMOND   \n76  76  2015-05-10 18:30:00    Sunday     BAYVIEW   \n77  77  2015-05-10 18:30:00    Sunday        PARK   \n78  78  2015-05-10 18:30:00    Sunday        PARK   \n79  79  2015-05-10 18:30:00    Sunday        PARK   \n80  80  2015-05-10 18:30:00    Sunday     BAYVIEW   \n81  81  2015-05-10 18:29:00    Sunday     MISSION   \n82  82  2015-05-10 18:15:00    Sunday     TARAVAL   \n83  83  2015-05-10 18:15:00    Sunday     TARAVAL   \n84  84  2015-05-10 18:10:00    Sunday    RICHMOND   \n85  85  2015-05-10 18:00:00    Sunday    RICHMOND   \n86  86  2015-05-10 18:00:00    Sunday    RICHMOND   \n87  87  2015-05-10 18:00:00    Sunday     BAYVIEW   \n88  88  2015-05-10 17:52:00    Sunday     CENTRAL   \n89  89  2015-05-10 17:35:00    Sunday    NORTHERN   \n90  90  2015-05-10 17:30:00    Sunday    SOUTHERN   \n91  91  2015-05-10 17:30:00    Sunday    SOUTHERN   \n92  92  2015-05-10 17:30:00    Sunday   INGLESIDE   \n93  93  2015-05-10 17:30:00    Sunday     MISSION   \n94  94  2015-05-10 17:30:00    Sunday     MISSION   \n95  95  2015-05-10 17:30:00    Sunday    RICHMOND   \n96  96  2015-05-10 17:30:00    Sunday    NORTHERN   \n97  97  2015-05-10 17:29:00    Sunday     BAYVIEW   \n98  98  2015-05-10 17:28:00    Sunday     TARAVAL   \n99  99  2015-05-10 17:17:00    Sunday    SOUTHERN   \n\n                         Address                    X          Y  \n0        2000 Block of THOMAS AV  -122.39958770418998  37.735051  \n1             3RD ST / REVERE AV    -122.391522893042  37.732432  \n2         2000 Block of GOUGH ST    -122.426001954961  37.792212  \n3       4700 Block of MISSION ST    -122.437393972517  37.721412  \n4       4700 Block of MISSION ST    -122.437393972517  37.721412  \n5          BROAD ST / CAPITOL AV  -122.45902362242902  37.713172  \n6        100 Block of CHENERY ST  -122.42561645123001  37.739351  \n7          200 Block of BANKS ST  -122.41265203979201  37.739750  \n8          2900 Block of 16TH ST    -122.418700097043  37.765165  \n9           TAYLOR ST / GREEN ST    -122.413934584561  37.798886  \n10       100 Block of PERALTA AV  -122.40860777448499  37.746787  \n11       600 Block of FLORIDA ST    -122.411093822635  37.761048  \n12       600 Block of FLORIDA ST    -122.411093822635  37.761048  \n13       200 Block of VALLEJO ST    -122.402130610278  37.799364  \n14        JEFFERSON ST / HYDE ST    -122.420747467177  37.807588  \n15      GOLDEN GATE AV / HYDE ST    -122.415508242782  37.781654  \n16        1200 Block of OCEAN AV  -122.45567852962401  37.723702  \n17       1200 Block of GIRARD ST    -122.400298318649  37.717181  \n18     1900 Block of FILLMORE ST    -122.433668534709  37.787709  \n19            GREEN ST / POLK ST    -122.422149614358  37.797824  \n20            GREEN ST / POLK ST    -122.422149614358  37.797824  \n21           15TH ST / FOLSOM ST    -122.415464372874  37.766937  \n22       1800 Block of KEARNY ST    -122.406820555032  37.804828  \n23       200 Block of PEABODY ST  -122.40792248129401  37.709004  \n24        500 Block of HAIGHT ST    -122.431289969136  37.772055  \n25          200 Block of 11TH AV    -122.469906688039  37.783616  \n26        800 Block of FULTON ST    -122.431149073441  37.777698  \n27        800 Block of BRYANT ST  -122.40340479147899  37.775421  \n28     300 Block of LOSPALMOS DR  -122.45067626133002  37.735401  \n29         1800 Block of 15TH AV    -122.472130727218  37.753391  \n..                           ...                  ...        ...  \n70        800 Block of BRYANT ST  -122.40340479147899  37.775421  \n71            GEARY BL / 28TH AV    -122.487946479231  37.779944  \n72            GEARY BL / 28TH AV    -122.487946479231  37.779944  \n73            GEARY BL / 28TH AV    -122.487946479231  37.779944  \n74       OFARRELL ST / POWELL ST    -122.408040474858  37.786409  \n75           600 Block of 9TH AV    -122.467221148771  37.776134  \n76   400 Block of MISSISSIPPI ST  -122.39434290268998  37.760771  \n77         1200 Block of PAGE ST  -122.44139370111401  37.771727  \n78         1200 Block of PAGE ST  -122.44139370111401  37.771727  \n79        2400 Block of GEARY BL     -122.44364285254  37.782918  \n80              7TH ST / 16TH ST    -122.395062849863  37.766544  \n81          16TH ST / MISSION ST    -122.419671780296  37.765050  \n82        600 Block of IRVING ST    -122.464722568832  37.764162  \n83         2300 Block of 42ND AV    -122.500466121213  37.742874  \n84       FULTON ST / LA PLAYA ST     -122.50989299593  37.771394  \n85        3900 Block of GEARY BL    -122.461603688677  37.781018  \n86        3900 Block of GEARY BL    -122.461603688677  37.781018  \n87       700 Block of LECONTE AV    -122.396677554564  37.716722  \n88          GREEN ST / BANNAM PL    -122.407702556181  37.799663  \n89       400 Block of VANNESS AV  -122.42021727334499  37.779151  \n90        800 Block of MARKET ST    -122.407633520742  37.784189  \n91        800 Block of MARKET ST    -122.407633520742  37.784189  \n92          0 Block of DELANO AV  -122.44015982058399  37.727094  \n93  CESAR CHAVEZ ST / POTRERO AV    -122.405096871916  37.749110  \n94  CESAR CHAVEZ ST / POTRERO AV    -122.405096871916  37.749110  \n95      FUNSTON AV / CABRILLO ST    -122.471372908785  37.775025  \n96        FILLMORE ST / GEARY BL    -122.432914603494  37.784353  \n97       1300 Block of THOMAS AV    -122.386594164927  37.727818  \n98       1800 Block of IRVING ST    -122.477696048974  37.763592  \n99        800 Block of BRYANT ST  -122.40340479147899  37.775421  \n\n[100 rows x 7 columns]"
          },
          "metadata": {}
        }
      ]
    },
    {
      "metadata": {
        "trusted": true
      },
      "cell_type": "code",
      "source": "d.DayOfWeek.describe()",
      "execution_count": 7,
      "outputs": [
        {
          "output_type": "execute_result",
          "execution_count": 7,
          "data": {
            "text/plain": "count      41199\nunique         7\ntop       Friday\nfreq        6216\nName: DayOfWeek, dtype: object"
          },
          "metadata": {}
        }
      ]
    },
    {
      "metadata": {
        "trusted": true,
        "scrolled": true
      },
      "cell_type": "code",
      "source": "d.count()",
      "execution_count": 8,
      "outputs": [
        {
          "output_type": "execute_result",
          "execution_count": 8,
          "data": {
            "text/plain": "Id            41199\nDates         41199\nDayOfWeek     41199\nPdDistrict    41199\nAddress       41199\nX             41199\nY             41198\ndtype: int64"
          },
          "metadata": {}
        }
      ]
    },
    {
      "metadata": {
        "trusted": true
      },
      "cell_type": "code",
      "source": "d=d.drop_duplicates()\nd.count()",
      "execution_count": 9,
      "outputs": [
        {
          "output_type": "execute_result",
          "execution_count": 9,
          "data": {
            "text/plain": "Id            41199\nDates         41199\nDayOfWeek     41199\nPdDistrict    41199\nAddress       41199\nX             41199\nY             41198\ndtype: int64"
          },
          "metadata": {}
        }
      ]
    },
    {
      "metadata": {
        "trusted": true
      },
      "cell_type": "code",
      "source": "",
      "execution_count": null,
      "outputs": []
    },
    {
      "metadata": {
        "trusted": true
      },
      "cell_type": "code",
      "source": "d['PdDistrict'].nunique()",
      "execution_count": 10,
      "outputs": [
        {
          "output_type": "execute_result",
          "execution_count": 10,
          "data": {
            "text/plain": "10"
          },
          "metadata": {}
        }
      ]
    },
    {
      "metadata": {
        "trusted": true
      },
      "cell_type": "code",
      "source": "d['Address'].nunique()",
      "execution_count": 11,
      "outputs": [
        {
          "output_type": "execute_result",
          "execution_count": 11,
          "data": {
            "text/plain": "9924"
          },
          "metadata": {}
        }
      ]
    },
    {
      "metadata": {
        "trusted": true
      },
      "cell_type": "code",
      "source": "d['X'].max()",
      "execution_count": 12,
      "outputs": [
        {
          "output_type": "execute_result",
          "execution_count": 12,
          "data": {
            "text/plain": "'-122.513642064265'"
          },
          "metadata": {}
        }
      ]
    },
    {
      "metadata": {
        "trusted": true
      },
      "cell_type": "code",
      "source": "d['X'].nunique()",
      "execution_count": 13,
      "outputs": [
        {
          "output_type": "execute_result",
          "execution_count": 13,
          "data": {
            "text/plain": "11052"
          },
          "metadata": {}
        }
      ]
    },
    {
      "metadata": {
        "trusted": true
      },
      "cell_type": "code",
      "source": "df=pd.DataFrame(d[\"Address\"].value_counts())",
      "execution_count": 14,
      "outputs": []
    },
    {
      "metadata": {
        "trusted": true,
        "scrolled": true
      },
      "cell_type": "code",
      "source": "df",
      "execution_count": 15,
      "outputs": [
        {
          "output_type": "execute_result",
          "execution_count": 15,
          "data": {
            "text/html": "<div>\n<style scoped>\n    .dataframe tbody tr th:only-of-type {\n        vertical-align: middle;\n    }\n\n    .dataframe tbody tr th {\n        vertical-align: top;\n    }\n\n    .dataframe thead th {\n        text-align: right;\n    }\n</style>\n<table border=\"1\" class=\"dataframe\">\n  <thead>\n    <tr style=\"text-align: right;\">\n      <th></th>\n      <th>Address</th>\n    </tr>\n  </thead>\n  <tbody>\n    <tr>\n      <th>800 Block of BRYANT ST</th>\n      <td>1188</td>\n    </tr>\n    <tr>\n      <th>800 Block of MARKET ST</th>\n      <td>374</td>\n    </tr>\n    <tr>\n      <th>1000 Block of POTRERO AV</th>\n      <td>281</td>\n    </tr>\n    <tr>\n      <th>16TH ST / MISSION ST</th>\n      <td>170</td>\n    </tr>\n    <tr>\n      <th>2000 Block of MISSION ST</th>\n      <td>165</td>\n    </tr>\n    <tr>\n      <th>500 Block of JOHNFKENNEDY DR</th>\n      <td>155</td>\n    </tr>\n    <tr>\n      <th>900 Block of MARKET ST</th>\n      <td>132</td>\n    </tr>\n    <tr>\n      <th>100 Block of OFARRELL ST</th>\n      <td>122</td>\n    </tr>\n    <tr>\n      <th>700 Block of MARKET ST</th>\n      <td>121</td>\n    </tr>\n    <tr>\n      <th>0 Block of UNITEDNATIONS PZ</th>\n      <td>119</td>\n    </tr>\n    <tr>\n      <th>3200 Block of 20TH AV</th>\n      <td>116</td>\n    </tr>\n    <tr>\n      <th>300 Block of EDDY ST</th>\n      <td>103</td>\n    </tr>\n    <tr>\n      <th>1000 Block of MARKET ST</th>\n      <td>103</td>\n    </tr>\n    <tr>\n      <th>400 Block of ELLIS ST</th>\n      <td>91</td>\n    </tr>\n    <tr>\n      <th>400 Block of CASTRO ST</th>\n      <td>89</td>\n    </tr>\n    <tr>\n      <th>1100 Block of FILLMORE ST</th>\n      <td>89</td>\n    </tr>\n    <tr>\n      <th>0 Block of MOSS ST</th>\n      <td>86</td>\n    </tr>\n    <tr>\n      <th>700 Block of MISSION ST</th>\n      <td>86</td>\n    </tr>\n    <tr>\n      <th>100 Block of EDDY ST</th>\n      <td>85</td>\n    </tr>\n    <tr>\n      <th>2000 Block of MARKET ST</th>\n      <td>84</td>\n    </tr>\n    <tr>\n      <th>0 Block of POWELL ST</th>\n      <td>83</td>\n    </tr>\n    <tr>\n      <th>200 Block of INTERSTATE80 HY</th>\n      <td>82</td>\n    </tr>\n    <tr>\n      <th>400 Block of STOCKTON ST</th>\n      <td>78</td>\n    </tr>\n    <tr>\n      <th>400 Block of 6TH AV</th>\n      <td>77</td>\n    </tr>\n    <tr>\n      <th>0 Block of 6TH ST</th>\n      <td>76</td>\n    </tr>\n    <tr>\n      <th>900 Block of POTRERO AV</th>\n      <td>74</td>\n    </tr>\n    <tr>\n      <th>0 Block of TURK ST</th>\n      <td>74</td>\n    </tr>\n    <tr>\n      <th>100 Block of 3RD ST</th>\n      <td>71</td>\n    </tr>\n    <tr>\n      <th>1300 Block of WEBSTER ST</th>\n      <td>71</td>\n    </tr>\n    <tr>\n      <th>600 Block of VALENCIA ST</th>\n      <td>69</td>\n    </tr>\n    <tr>\n      <th>...</th>\n      <td>...</td>\n    </tr>\n    <tr>\n      <th>RUTLAND ST / TEDDY AV</th>\n      <td>1</td>\n    </tr>\n    <tr>\n      <th>4TH AV / GEARY BL</th>\n      <td>1</td>\n    </tr>\n    <tr>\n      <th>200 Block of STEUART ST</th>\n      <td>1</td>\n    </tr>\n    <tr>\n      <th>2400 Block of FRANKLIN ST</th>\n      <td>1</td>\n    </tr>\n    <tr>\n      <th>OWENS ST / 16TH ST</th>\n      <td>1</td>\n    </tr>\n    <tr>\n      <th>SLOAT BL / SKYLINEBLVD HY</th>\n      <td>1</td>\n    </tr>\n    <tr>\n      <th>PIERCE ST / FELL ST</th>\n      <td>1</td>\n    </tr>\n    <tr>\n      <th>VANDYKE AV / LANE ST</th>\n      <td>1</td>\n    </tr>\n    <tr>\n      <th>STILL ST / BADGER ST</th>\n      <td>1</td>\n    </tr>\n    <tr>\n      <th>ASHBURY ST / GROVE ST</th>\n      <td>1</td>\n    </tr>\n    <tr>\n      <th>2000 Block of BRODERICK ST</th>\n      <td>1</td>\n    </tr>\n    <tr>\n      <th>PHELPS ST / KIRKWOOD AV</th>\n      <td>1</td>\n    </tr>\n    <tr>\n      <th>200 Block of SUMMIT ST</th>\n      <td>1</td>\n    </tr>\n    <tr>\n      <th>WALLER ST / SCOTT ST</th>\n      <td>1</td>\n    </tr>\n    <tr>\n      <th>MOUNT VERNON AV / DELMONTE ST</th>\n      <td>1</td>\n    </tr>\n    <tr>\n      <th>MISSION ST / COTTER ST</th>\n      <td>1</td>\n    </tr>\n    <tr>\n      <th>BROADWAY ST / LAGUNA ST</th>\n      <td>1</td>\n    </tr>\n    <tr>\n      <th>AHERN WY / 6TH ST</th>\n      <td>1</td>\n    </tr>\n    <tr>\n      <th>1000 Block of FELTON ST</th>\n      <td>1</td>\n    </tr>\n    <tr>\n      <th>3200 Block of MARKET ST</th>\n      <td>1</td>\n    </tr>\n    <tr>\n      <th>700 Block of 10TH AV</th>\n      <td>1</td>\n    </tr>\n    <tr>\n      <th>0 Block of MARS ST</th>\n      <td>1</td>\n    </tr>\n    <tr>\n      <th>TOLAND ST / NAPOLEON ST</th>\n      <td>1</td>\n    </tr>\n    <tr>\n      <th>0 Block of MAJESTIC AV</th>\n      <td>1</td>\n    </tr>\n    <tr>\n      <th>3900 Block of CLAY ST</th>\n      <td>1</td>\n    </tr>\n    <tr>\n      <th>30TH AV / IRVING ST</th>\n      <td>1</td>\n    </tr>\n    <tr>\n      <th>6400 Block of 3RD ST</th>\n      <td>1</td>\n    </tr>\n    <tr>\n      <th>SUNSET BL / MARTIN LUTHER KING JR DR</th>\n      <td>1</td>\n    </tr>\n    <tr>\n      <th>CESAR CHAVEZ ST / ALABAMA ST</th>\n      <td>1</td>\n    </tr>\n    <tr>\n      <th>0 Block of MARTHA AV</th>\n      <td>1</td>\n    </tr>\n  </tbody>\n</table>\n<p>9924 rows × 1 columns</p>\n</div>",
            "text/plain": "                                      Address\n800 Block of BRYANT ST                   1188\n800 Block of MARKET ST                    374\n1000 Block of POTRERO AV                  281\n16TH ST / MISSION ST                      170\n2000 Block of MISSION ST                  165\n500 Block of JOHNFKENNEDY DR              155\n900 Block of MARKET ST                    132\n100 Block of OFARRELL ST                  122\n700 Block of MARKET ST                    121\n0 Block of UNITEDNATIONS PZ               119\n3200 Block of 20TH AV                     116\n300 Block of EDDY ST                      103\n1000 Block of MARKET ST                   103\n400 Block of ELLIS ST                      91\n400 Block of CASTRO ST                     89\n1100 Block of FILLMORE ST                  89\n0 Block of MOSS ST                         86\n700 Block of MISSION ST                    86\n100 Block of EDDY ST                       85\n2000 Block of MARKET ST                    84\n0 Block of POWELL ST                       83\n200 Block of INTERSTATE80 HY               82\n400 Block of STOCKTON ST                   78\n400 Block of 6TH AV                        77\n0 Block of 6TH ST                          76\n900 Block of POTRERO AV                    74\n0 Block of TURK ST                         74\n100 Block of 3RD ST                        71\n1300 Block of WEBSTER ST                   71\n600 Block of VALENCIA ST                   69\n...                                       ...\nRUTLAND ST / TEDDY AV                       1\n4TH AV / GEARY BL                           1\n200 Block of STEUART ST                     1\n2400 Block of FRANKLIN ST                   1\nOWENS ST / 16TH ST                          1\nSLOAT BL / SKYLINEBLVD HY                   1\nPIERCE ST / FELL ST                         1\nVANDYKE AV / LANE ST                        1\nSTILL ST / BADGER ST                        1\nASHBURY ST / GROVE ST                       1\n2000 Block of BRODERICK ST                  1\nPHELPS ST / KIRKWOOD AV                     1\n200 Block of SUMMIT ST                      1\nWALLER ST / SCOTT ST                        1\nMOUNT VERNON AV / DELMONTE ST               1\nMISSION ST / COTTER ST                      1\nBROADWAY ST / LAGUNA ST                     1\nAHERN WY / 6TH ST                           1\n1000 Block of FELTON ST                     1\n3200 Block of MARKET ST                     1\n700 Block of 10TH AV                        1\n0 Block of MARS ST                          1\nTOLAND ST / NAPOLEON ST                     1\n0 Block of MAJESTIC AV                      1\n3900 Block of CLAY ST                       1\n30TH AV / IRVING ST                         1\n6400 Block of 3RD ST                        1\nSUNSET BL / MARTIN LUTHER KING JR DR        1\nCESAR CHAVEZ ST / ALABAMA ST                1\n0 Block of MARTHA AV                        1\n\n[9924 rows x 1 columns]"
          },
          "metadata": {}
        }
      ]
    },
    {
      "metadata": {
        "trusted": true
      },
      "cell_type": "code",
      "source": "df1=pd.DataFrame(d[\"PdDistrict\"].value_counts())",
      "execution_count": 16,
      "outputs": []
    },
    {
      "metadata": {
        "trusted": true
      },
      "cell_type": "code",
      "source": "df1",
      "execution_count": 17,
      "outputs": [
        {
          "output_type": "execute_result",
          "execution_count": 17,
          "data": {
            "text/html": "<div>\n<style scoped>\n    .dataframe tbody tr th:only-of-type {\n        vertical-align: middle;\n    }\n\n    .dataframe tbody tr th {\n        vertical-align: top;\n    }\n\n    .dataframe thead th {\n        text-align: right;\n    }\n</style>\n<table border=\"1\" class=\"dataframe\">\n  <thead>\n    <tr style=\"text-align: right;\">\n      <th></th>\n      <th>PdDistrict</th>\n    </tr>\n  </thead>\n  <tbody>\n    <tr>\n      <th>SOUTHERN</th>\n      <td>7911</td>\n    </tr>\n    <tr>\n      <th>NORTHERN</th>\n      <td>5351</td>\n    </tr>\n    <tr>\n      <th>MISSION</th>\n      <td>5069</td>\n    </tr>\n    <tr>\n      <th>CENTRAL</th>\n      <td>4820</td>\n    </tr>\n    <tr>\n      <th>BAYVIEW</th>\n      <td>3692</td>\n    </tr>\n    <tr>\n      <th>INGLESIDE</th>\n      <td>3608</td>\n    </tr>\n    <tr>\n      <th>TARAVAL</th>\n      <td>3052</td>\n    </tr>\n    <tr>\n      <th>TENDERLOIN</th>\n      <td>3022</td>\n    </tr>\n    <tr>\n      <th>RICHMOND</th>\n      <td>2405</td>\n    </tr>\n    <tr>\n      <th>PARK</th>\n      <td>2269</td>\n    </tr>\n  </tbody>\n</table>\n</div>",
            "text/plain": "            PdDistrict\nSOUTHERN          7911\nNORTHERN          5351\nMISSION           5069\nCENTRAL           4820\nBAYVIEW           3692\nINGLESIDE         3608\nTARAVAL           3052\nTENDERLOIN        3022\nRICHMOND          2405\nPARK              2269"
          },
          "metadata": {}
        }
      ]
    },
    {
      "metadata": {
        "trusted": true
      },
      "cell_type": "code",
      "source": "df2=pd.DataFrame(d[\"DayOfWeek\"].value_counts())",
      "execution_count": 18,
      "outputs": []
    },
    {
      "metadata": {
        "trusted": true
      },
      "cell_type": "code",
      "source": "df2",
      "execution_count": 19,
      "outputs": [
        {
          "output_type": "execute_result",
          "execution_count": 19,
          "data": {
            "text/html": "<div>\n<style scoped>\n    .dataframe tbody tr th:only-of-type {\n        vertical-align: middle;\n    }\n\n    .dataframe tbody tr th {\n        vertical-align: top;\n    }\n\n    .dataframe thead th {\n        text-align: right;\n    }\n</style>\n<table border=\"1\" class=\"dataframe\">\n  <thead>\n    <tr style=\"text-align: right;\">\n      <th></th>\n      <th>DayOfWeek</th>\n    </tr>\n  </thead>\n  <tbody>\n    <tr>\n      <th>Friday</th>\n      <td>6216</td>\n    </tr>\n    <tr>\n      <th>Saturday</th>\n      <td>6067</td>\n    </tr>\n    <tr>\n      <th>Sunday</th>\n      <td>5936</td>\n    </tr>\n    <tr>\n      <th>Wednesday</th>\n      <td>5865</td>\n    </tr>\n    <tr>\n      <th>Thursday</th>\n      <td>5845</td>\n    </tr>\n    <tr>\n      <th>Tuesday</th>\n      <td>5637</td>\n    </tr>\n    <tr>\n      <th>Monday</th>\n      <td>5633</td>\n    </tr>\n  </tbody>\n</table>\n</div>",
            "text/plain": "           DayOfWeek\nFriday          6216\nSaturday        6067\nSunday          5936\nWednesday       5865\nThursday        5845\nTuesday         5637\nMonday          5633"
          },
          "metadata": {}
        }
      ]
    },
    {
      "metadata": {},
      "cell_type": "markdown",
      "source": "# data plotting"
    },
    {
      "metadata": {
        "trusted": true
      },
      "cell_type": "code",
      "source": "import matplotlib.pyplot as plt\n%matplotlib inline\nimport seaborn as snm",
      "execution_count": 20,
      "outputs": []
    },
    {
      "metadata": {
        "trusted": true,
        "scrolled": true
      },
      "cell_type": "code",
      "source": "plt.scatter(df1.PdDistrict,df1.index,marker='*')",
      "execution_count": 21,
      "outputs": [
        {
          "output_type": "execute_result",
          "execution_count": 21,
          "data": {
            "text/plain": "<matplotlib.collections.PathCollection at 0x7f07fbefe1d0>"
          },
          "metadata": {}
        },
        {
          "output_type": "display_data",
          "data": {
            "image/png": "[encoded data removed]",
            "text/plain": "<Figure size 432x288 with 1 Axes>"
          },
          "metadata": {
            "needs_background": "light"
          }
        }
      ]
    },
    {
      "metadata": {
        "trusted": true
      },
      "cell_type": "code",
      "source": "#plt.scatter(d.X,d.Y)",
      "execution_count": 22,
      "outputs": []
    },
    {
      "metadata": {
        "trusted": true
      },
      "cell_type": "code",
      "source": "#plt.plot(d.Address,d.PdDistrict)",
      "execution_count": 23,
      "outputs": []
    },
    {
      "metadata": {
        "trusted": true
      },
      "cell_type": "code",
      "source": "",
      "execution_count": null,
      "outputs": []
    },
    {
      "metadata": {
        "trusted": true
      },
      "cell_type": "code",
      "source": "",
      "execution_count": null,
      "outputs": []
    },
    {
      "metadata": {
        "trusted": true
      },
      "cell_type": "code",
      "source": "",
      "execution_count": null,
      "outputs": []
    },
    {
      "metadata": {
        "trusted": true
      },
      "cell_type": "code",
      "source": "",
      "execution_count": null,
      "outputs": []
    },
    {
      "metadata": {
        "trusted": true
      },
      "cell_type": "code",
      "source": "",
      "execution_count": null,
      "outputs": []
    },
    {
      "metadata": {
        "trusted": true
      },
      "cell_type": "code",
      "source": "",
      "execution_count": null,
      "outputs": []
    },
    {
      "metadata": {
        "trusted": true
      },
      "cell_type": "code",
      "source": "",
      "execution_count": null,
      "outputs": []
    },
    {
      "metadata": {
        "trusted": true
      },
      "cell_type": "code",
      "source": "",
      "execution_count": null,
      "outputs": []
    },
    {
      "metadata": {
        "trusted": true
      },
      "cell_type": "code",
      "source": "",
      "execution_count": null,
      "outputs": []
    },
    {
      "metadata": {},
      "cell_type": "markdown",
      "source": "# label encoding"
    },
    {
      "metadata": {
        "trusted": true
      },
      "cell_type": "code",
      "source": "from sklearn.preprocessing import LabelEncoder\nday=LabelEncoder()\n\ndist=LabelEncoder()\nad=LabelEncoder()",
      "execution_count": 24,
      "outputs": []
    },
    {
      "metadata": {},
      "cell_type": "markdown",
      "source": "## provide numeric codes"
    },
    {
      "metadata": {
        "trusted": true
      },
      "cell_type": "code",
      "source": "d['days']=day.fit_transform(d[\"DayOfWeek\"])\nd['add']=ad.fit_transform(d[\"Address\"])\nd['distt']=dist.fit_transform(d[\"PdDistrict\"])",
      "execution_count": 25,
      "outputs": []
    },
    {
      "metadata": {
        "trusted": true,
        "scrolled": true
      },
      "cell_type": "code",
      "source": "d['days']",
      "execution_count": 26,
      "outputs": [
        {
          "output_type": "execute_result",
          "execution_count": 26,
          "data": {
            "text/plain": "0        3\n1        3\n2        3\n3        3\n4        3\n5        3\n6        3\n7        3\n8        3\n9        3\n10       3\n11       3\n12       3\n13       3\n14       3\n15       3\n16       3\n17       3\n18       3\n19       3\n20       3\n21       3\n22       3\n23       3\n24       3\n25       3\n26       3\n27       3\n28       3\n29       3\n        ..\n41169    3\n41170    3\n41171    3\n41172    3\n41173    3\n41174    3\n41175    3\n41176    3\n41177    3\n41178    3\n41179    3\n41180    3\n41181    3\n41182    3\n41183    3\n41184    3\n41185    3\n41186    3\n41187    3\n41188    3\n41189    3\n41190    3\n41191    3\n41192    3\n41193    3\n41194    3\n41195    3\n41196    3\n41197    3\n41198    3\nName: days, Length: 41199, dtype: int64"
          },
          "metadata": {}
        }
      ]
    },
    {
      "metadata": {
        "trusted": true,
        "scrolled": true
      },
      "cell_type": "code",
      "source": "d.head()",
      "execution_count": 27,
      "outputs": [
        {
          "output_type": "execute_result",
          "execution_count": 27,
          "data": {
            "text/html": "<div>\n<style scoped>\n    .dataframe tbody tr th:only-of-type {\n        vertical-align: middle;\n    }\n\n    .dataframe tbody tr th {\n        vertical-align: top;\n    }\n\n    .dataframe thead th {\n        text-align: right;\n    }\n</style>\n<table border=\"1\" class=\"dataframe\">\n  <thead>\n    <tr style=\"text-align: right;\">\n      <th></th>\n      <th>Id</th>\n      <th>Dates</th>\n      <th>DayOfWeek</th>\n      <th>PdDistrict</th>\n      <th>Address</th>\n      <th>X</th>\n      <th>Y</th>\n      <th>days</th>\n      <th>add</th>\n      <th>distt</th>\n    </tr>\n  </thead>\n  <tbody>\n    <tr>\n      <th>0</th>\n      <td>0</td>\n      <td>2015-05-10 23:59:00</td>\n      <td>Sunday</td>\n      <td>BAYVIEW</td>\n      <td>2000 Block of THOMAS AV</td>\n      <td>-122.39958770418998</td>\n      <td>37.735051</td>\n      <td>3</td>\n      <td>3288</td>\n      <td>0</td>\n    </tr>\n    <tr>\n      <th>1</th>\n      <td>1</td>\n      <td>2015-05-10 23:51:00</td>\n      <td>Sunday</td>\n      <td>BAYVIEW</td>\n      <td>3RD ST / REVERE AV</td>\n      <td>-122.391522893042</td>\n      <td>37.732432</td>\n      <td>3</td>\n      <td>4828</td>\n      <td>0</td>\n    </tr>\n    <tr>\n      <th>2</th>\n      <td>2</td>\n      <td>2015-05-10 23:50:00</td>\n      <td>Sunday</td>\n      <td>NORTHERN</td>\n      <td>2000 Block of GOUGH ST</td>\n      <td>-122.426001954961</td>\n      <td>37.792212</td>\n      <td>3</td>\n      <td>3243</td>\n      <td>4</td>\n    </tr>\n    <tr>\n      <th>3</th>\n      <td>3</td>\n      <td>2015-05-10 23:45:00</td>\n      <td>Sunday</td>\n      <td>INGLESIDE</td>\n      <td>4700 Block of MISSION ST</td>\n      <td>-122.437393972517</td>\n      <td>37.721412</td>\n      <td>3</td>\n      <td>5237</td>\n      <td>2</td>\n    </tr>\n    <tr>\n      <th>4</th>\n      <td>4</td>\n      <td>2015-05-10 23:45:00</td>\n      <td>Sunday</td>\n      <td>INGLESIDE</td>\n      <td>4700 Block of MISSION ST</td>\n      <td>-122.437393972517</td>\n      <td>37.721412</td>\n      <td>3</td>\n      <td>5237</td>\n      <td>2</td>\n    </tr>\n  </tbody>\n</table>\n</div>",
            "text/plain": "   Id                Dates DayOfWeek PdDistrict                   Address  \\\n0   0  2015-05-10 23:59:00    Sunday    BAYVIEW   2000 Block of THOMAS AV   \n1   1  2015-05-10 23:51:00    Sunday    BAYVIEW        3RD ST / REVERE AV   \n2   2  2015-05-10 23:50:00    Sunday   NORTHERN    2000 Block of GOUGH ST   \n3   3  2015-05-10 23:45:00    Sunday  INGLESIDE  4700 Block of MISSION ST   \n4   4  2015-05-10 23:45:00    Sunday  INGLESIDE  4700 Block of MISSION ST   \n\n                     X          Y  days   add  distt  \n0  -122.39958770418998  37.735051     3  3288      0  \n1    -122.391522893042  37.732432     3  4828      0  \n2    -122.426001954961  37.792212     3  3243      4  \n3    -122.437393972517  37.721412     3  5237      2  \n4    -122.437393972517  37.721412     3  5237      2  "
          },
          "metadata": {}
        }
      ]
    },
    {
      "metadata": {
        "trusted": true
      },
      "cell_type": "code",
      "source": "",
      "execution_count": null,
      "outputs": []
    },
    {
      "metadata": {
        "trusted": true
      },
      "cell_type": "markdown",
      "source": "## remove unwanted factors"
    },
    {
      "metadata": {
        "trusted": true
      },
      "cell_type": "code",
      "source": "new=d.drop([\"DayOfWeek\",\"PdDistrict\",\"Address\",\"Id\"],axis='columns')",
      "execution_count": 28,
      "outputs": []
    },
    {
      "metadata": {
        "trusted": true,
        "scrolled": true
      },
      "cell_type": "code",
      "source": "new.head()",
      "execution_count": 29,
      "outputs": [
        {
          "output_type": "execute_result",
          "execution_count": 29,
          "data": {
            "text/html": "<div>\n<style scoped>\n    .dataframe tbody tr th:only-of-type {\n        vertical-align: middle;\n    }\n\n    .dataframe tbody tr th {\n        vertical-align: top;\n    }\n\n    .dataframe thead th {\n        text-align: right;\n    }\n</style>\n<table border=\"1\" class=\"dataframe\">\n  <thead>\n    <tr style=\"text-align: right;\">\n      <th></th>\n      <th>Dates</th>\n      <th>X</th>\n      <th>Y</th>\n      <th>days</th>\n      <th>add</th>\n      <th>distt</th>\n    </tr>\n  </thead>\n  <tbody>\n    <tr>\n      <th>0</th>\n      <td>2015-05-10 23:59:00</td>\n      <td>-122.39958770418998</td>\n      <td>37.735051</td>\n      <td>3</td>\n      <td>3288</td>\n      <td>0</td>\n    </tr>\n    <tr>\n      <th>1</th>\n      <td>2015-05-10 23:51:00</td>\n      <td>-122.391522893042</td>\n      <td>37.732432</td>\n      <td>3</td>\n      <td>4828</td>\n      <td>0</td>\n    </tr>\n    <tr>\n      <th>2</th>\n      <td>2015-05-10 23:50:00</td>\n      <td>-122.426001954961</td>\n      <td>37.792212</td>\n      <td>3</td>\n      <td>3243</td>\n      <td>4</td>\n    </tr>\n    <tr>\n      <th>3</th>\n      <td>2015-05-10 23:45:00</td>\n      <td>-122.437393972517</td>\n      <td>37.721412</td>\n      <td>3</td>\n      <td>5237</td>\n      <td>2</td>\n    </tr>\n    <tr>\n      <th>4</th>\n      <td>2015-05-10 23:45:00</td>\n      <td>-122.437393972517</td>\n      <td>37.721412</td>\n      <td>3</td>\n      <td>5237</td>\n      <td>2</td>\n    </tr>\n  </tbody>\n</table>\n</div>",
            "text/plain": "                 Dates                    X          Y  days   add  distt\n0  2015-05-10 23:59:00  -122.39958770418998  37.735051     3  3288      0\n1  2015-05-10 23:51:00    -122.391522893042  37.732432     3  4828      0\n2  2015-05-10 23:50:00    -122.426001954961  37.792212     3  3243      4\n3  2015-05-10 23:45:00    -122.437393972517  37.721412     3  5237      2\n4  2015-05-10 23:45:00    -122.437393972517  37.721412     3  5237      2"
          },
          "metadata": {}
        }
      ]
    },
    {
      "metadata": {
        "trusted": true
      },
      "cell_type": "code",
      "source": "adr=new.drop(['days','distt'],axis='columns')",
      "execution_count": 30,
      "outputs": []
    },
    {
      "metadata": {
        "trusted": true,
        "scrolled": true
      },
      "cell_type": "code",
      "source": "adr",
      "execution_count": 31,
      "outputs": [
        {
          "output_type": "execute_result",
          "execution_count": 31,
          "data": {
            "text/html": "<div>\n<style scoped>\n    .dataframe tbody tr th:only-of-type {\n        vertical-align: middle;\n    }\n\n    .dataframe tbody tr th {\n        vertical-align: top;\n    }\n\n    .dataframe thead th {\n        text-align: right;\n    }\n</style>\n<table border=\"1\" class=\"dataframe\">\n  <thead>\n    <tr style=\"text-align: right;\">\n      <th></th>\n      <th>Dates</th>\n      <th>X</th>\n      <th>Y</th>\n      <th>add</th>\n    </tr>\n  </thead>\n  <tbody>\n    <tr>\n      <th>0</th>\n      <td>2015-05-10 23:59:00</td>\n      <td>-122.39958770418998</td>\n      <td>37.735051</td>\n      <td>3288</td>\n    </tr>\n    <tr>\n      <th>1</th>\n      <td>2015-05-10 23:51:00</td>\n      <td>-122.391522893042</td>\n      <td>37.732432</td>\n      <td>4828</td>\n    </tr>\n    <tr>\n      <th>2</th>\n      <td>2015-05-10 23:50:00</td>\n      <td>-122.426001954961</td>\n      <td>37.792212</td>\n      <td>3243</td>\n    </tr>\n    <tr>\n      <th>3</th>\n      <td>2015-05-10 23:45:00</td>\n      <td>-122.437393972517</td>\n      <td>37.721412</td>\n      <td>5237</td>\n    </tr>\n    <tr>\n      <th>4</th>\n      <td>2015-05-10 23:45:00</td>\n      <td>-122.437393972517</td>\n      <td>37.721412</td>\n      <td>5237</td>\n    </tr>\n    <tr>\n      <th>5</th>\n      <td>2015-05-10 23:40:00</td>\n      <td>-122.45902362242902</td>\n      <td>37.713172</td>\n      <td>6734</td>\n    </tr>\n    <tr>\n      <th>6</th>\n      <td>2015-05-10 23:30:00</td>\n      <td>-122.42561645123001</td>\n      <td>37.739351</td>\n      <td>873</td>\n    </tr>\n    <tr>\n      <th>7</th>\n      <td>2015-05-10 23:30:00</td>\n      <td>-122.41265203979201</td>\n      <td>37.739750</td>\n      <td>2878</td>\n    </tr>\n    <tr>\n      <th>8</th>\n      <td>2015-05-10 23:10:00</td>\n      <td>-122.418700097043</td>\n      <td>37.765165</td>\n      <td>4044</td>\n    </tr>\n    <tr>\n      <th>9</th>\n      <td>2015-05-10 23:10:00</td>\n      <td>-122.413934584561</td>\n      <td>37.798886</td>\n      <td>9574</td>\n    </tr>\n    <tr>\n      <th>10</th>\n      <td>2015-05-10 23:00:00</td>\n      <td>-122.40860777448499</td>\n      <td>37.746787</td>\n      <td>1134</td>\n    </tr>\n    <tr>\n      <th>11</th>\n      <td>2015-05-10 23:00:00</td>\n      <td>-122.411093822635</td>\n      <td>37.761048</td>\n      <td>5694</td>\n    </tr>\n    <tr>\n      <th>12</th>\n      <td>2015-05-10 23:00:00</td>\n      <td>-122.411093822635</td>\n      <td>37.761048</td>\n      <td>5694</td>\n    </tr>\n    <tr>\n      <th>13</th>\n      <td>2015-05-10 23:00:00</td>\n      <td>-122.402130610278</td>\n      <td>37.799364</td>\n      <td>3173</td>\n    </tr>\n    <tr>\n      <th>14</th>\n      <td>2015-05-10 23:00:00</td>\n      <td>-122.420747467177</td>\n      <td>37.807588</td>\n      <td>8078</td>\n    </tr>\n    <tr>\n      <th>15</th>\n      <td>2015-05-10 22:50:00</td>\n      <td>-122.415508242782</td>\n      <td>37.781654</td>\n      <td>7667</td>\n    </tr>\n    <tr>\n      <th>16</th>\n      <td>2015-05-10 22:36:00</td>\n      <td>-122.45567852962401</td>\n      <td>37.723702</td>\n      <td>1666</td>\n    </tr>\n    <tr>\n      <th>17</th>\n      <td>2015-05-10 22:00:00</td>\n      <td>-122.400298318649</td>\n      <td>37.717181</td>\n      <td>1626</td>\n    </tr>\n    <tr>\n      <th>18</th>\n      <td>2015-05-10 22:00:00</td>\n      <td>-122.433668534709</td>\n      <td>37.787709</td>\n      <td>2716</td>\n    </tr>\n    <tr>\n      <th>19</th>\n      <td>2015-05-10 22:00:00</td>\n      <td>-122.422149614358</td>\n      <td>37.797824</td>\n      <td>7753</td>\n    </tr>\n    <tr>\n      <th>20</th>\n      <td>2015-05-10 22:00:00</td>\n      <td>-122.422149614358</td>\n      <td>37.797824</td>\n      <td>7753</td>\n    </tr>\n    <tr>\n      <th>21</th>\n      <td>2015-05-10 22:00:00</td>\n      <td>-122.415464372874</td>\n      <td>37.766937</td>\n      <td>2204</td>\n    </tr>\n    <tr>\n      <th>22</th>\n      <td>2015-05-10 21:54:00</td>\n      <td>-122.406820555032</td>\n      <td>37.804828</td>\n      <td>2601</td>\n    </tr>\n    <tr>\n      <th>23</th>\n      <td>2015-05-10 21:51:00</td>\n      <td>-122.40792248129401</td>\n      <td>37.709004</td>\n      <td>3095</td>\n    </tr>\n    <tr>\n      <th>24</th>\n      <td>2015-05-10 21:35:00</td>\n      <td>-122.431289969136</td>\n      <td>37.772055</td>\n      <td>5420</td>\n    </tr>\n    <tr>\n      <th>25</th>\n      <td>2015-05-10 21:30:00</td>\n      <td>-122.469906688039</td>\n      <td>37.783616</td>\n      <td>2822</td>\n    </tr>\n    <tr>\n      <th>26</th>\n      <td>2015-05-10 21:30:00</td>\n      <td>-122.431149073441</td>\n      <td>37.777698</td>\n      <td>6188</td>\n    </tr>\n    <tr>\n      <th>27</th>\n      <td>2015-05-10 21:16:00</td>\n      <td>-122.40340479147899</td>\n      <td>37.775421</td>\n      <td>6145</td>\n    </tr>\n    <tr>\n      <th>28</th>\n      <td>2015-05-10 21:00:00</td>\n      <td>-122.45067626133002</td>\n      <td>37.735401</td>\n      <td>4311</td>\n    </tr>\n    <tr>\n      <th>29</th>\n      <td>2015-05-10 21:00:00</td>\n      <td>-122.472130727218</td>\n      <td>37.753391</td>\n      <td>2540</td>\n    </tr>\n    <tr>\n      <th>...</th>\n      <td>...</td>\n      <td>...</td>\n      <td>...</td>\n      <td>...</td>\n    </tr>\n    <tr>\n      <th>41169</th>\n      <td>2014-10-26 01:00:00</td>\n      <td>-122.402070243227</td>\n      <td>37.788720</td>\n      <td>8496</td>\n    </tr>\n    <tr>\n      <th>41170</th>\n      <td>2014-10-26 01:00:00</td>\n      <td>-122.413287527194</td>\n      <td>37.771196</td>\n      <td>4115</td>\n    </tr>\n    <tr>\n      <th>41171</th>\n      <td>2014-10-26 01:00:00</td>\n      <td>-122.388078475154</td>\n      <td>37.732443</td>\n      <td>1987</td>\n    </tr>\n    <tr>\n      <th>41172</th>\n      <td>2014-10-26 01:00:00</td>\n      <td>-122.388078475154</td>\n      <td>37.732443</td>\n      <td>1987</td>\n    </tr>\n    <tr>\n      <th>41173</th>\n      <td>2014-10-26 01:00:00</td>\n      <td>-122.420515681408</td>\n      <td>37.789384</td>\n      <td>1829</td>\n    </tr>\n    <tr>\n      <th>41174</th>\n      <td>2014-10-26 01:00:00</td>\n      <td>-122.43579598944599</td>\n      <td>37.798257</td>\n      <td>4503</td>\n    </tr>\n    <tr>\n      <th>41175</th>\n      <td>2014-10-26 00:56:00</td>\n      <td>-122.40340479147899</td>\n      <td>37.775421</td>\n      <td>6145</td>\n    </tr>\n    <tr>\n      <th>41176</th>\n      <td>2014-10-26 00:50:00</td>\n      <td>-122.40880996045401</td>\n      <td>37.798571</td>\n      <td>9502</td>\n    </tr>\n    <tr>\n      <th>41177</th>\n      <td>2014-10-26 00:50:00</td>\n      <td>-122.395635436168</td>\n      <td>37.753565</td>\n      <td>186</td>\n    </tr>\n    <tr>\n      <th>41178</th>\n      <td>2014-10-26 00:50:00</td>\n      <td>-122.395635436168</td>\n      <td>37.753565</td>\n      <td>186</td>\n    </tr>\n    <tr>\n      <th>41179</th>\n      <td>2014-10-26 00:45:00</td>\n      <td>-122.410507458268</td>\n      <td>37.777093</td>\n      <td>7958</td>\n    </tr>\n    <tr>\n      <th>41180</th>\n      <td>2014-10-26 00:45:00</td>\n      <td>-122.41812008648998</td>\n      <td>37.760301</td>\n      <td>2790</td>\n    </tr>\n    <tr>\n      <th>41181</th>\n      <td>2014-10-26 00:40:00</td>\n      <td>-122.43168151491001</td>\n      <td>37.725247</td>\n      <td>2961</td>\n    </tr>\n    <tr>\n      <th>41182</th>\n      <td>2014-10-26 00:38:00</td>\n      <td>-122.419374719759</td>\n      <td>37.746504</td>\n      <td>4510</td>\n    </tr>\n    <tr>\n      <th>41183</th>\n      <td>2014-10-26 00:30:00</td>\n      <td>-122.436797742278</td>\n      <td>37.800803</td>\n      <td>3232</td>\n    </tr>\n    <tr>\n      <th>41184</th>\n      <td>2014-10-26 00:18:00</td>\n      <td>-122.41013523637699</td>\n      <td>37.784189</td>\n      <td>926</td>\n    </tr>\n    <tr>\n      <th>41185</th>\n      <td>2014-10-26 00:10:00</td>\n      <td>-122.399826049876</td>\n      <td>37.786301</td>\n      <td>1107</td>\n    </tr>\n    <tr>\n      <th>41186</th>\n      <td>2014-10-26 00:05:00</td>\n      <td>-122.440504989739</td>\n      <td>37.775661</td>\n      <td>1947</td>\n    </tr>\n    <tr>\n      <th>41187</th>\n      <td>2014-10-26 00:01:00</td>\n      <td>-122.48118317163001</td>\n      <td>37.743727</td>\n      <td>3557</td>\n    </tr>\n    <tr>\n      <th>41188</th>\n      <td>2014-10-26 00:01:00</td>\n      <td>-122.446933310975</td>\n      <td>37.770006</td>\n      <td>7800</td>\n    </tr>\n    <tr>\n      <th>41189</th>\n      <td>2014-10-26 00:01:00</td>\n      <td>-122.42236740956301</td>\n      <td>37.769868</td>\n      <td>9732</td>\n    </tr>\n    <tr>\n      <th>41190</th>\n      <td>2014-10-26 00:01:00</td>\n      <td>-122.429850411503</td>\n      <td>37.777918</td>\n      <td>9866</td>\n    </tr>\n    <tr>\n      <th>41191</th>\n      <td>2014-10-26 00:01:00</td>\n      <td>-122.48118317163001</td>\n      <td>37.743727</td>\n      <td>3557</td>\n    </tr>\n    <tr>\n      <th>41192</th>\n      <td>2014-10-26 00:01:00</td>\n      <td>-122.48118317163001</td>\n      <td>37.743727</td>\n      <td>3557</td>\n    </tr>\n    <tr>\n      <th>41193</th>\n      <td>2014-10-26 00:01:00</td>\n      <td>-122.422472490035</td>\n      <td>37.803569</td>\n      <td>1308</td>\n    </tr>\n    <tr>\n      <th>41194</th>\n      <td>2014-10-26 00:01:00</td>\n      <td>-122.422472490035</td>\n      <td>37.803569</td>\n      <td>1308</td>\n    </tr>\n    <tr>\n      <th>41195</th>\n      <td>2014-10-26 00:01:00</td>\n      <td>-122.408924999704</td>\n      <td>37.804717</td>\n      <td>1137</td>\n    </tr>\n    <tr>\n      <th>41196</th>\n      <td>2014-10-26 00:01:00</td>\n      <td>-122.446612978839</td>\n      <td>37.782246</td>\n      <td>3896</td>\n    </tr>\n    <tr>\n      <th>41197</th>\n      <td>2014-10-26 00:01:00</td>\n      <td>-122.43607183338699</td>\n      <td>37.799622</td>\n      <td>4544</td>\n    </tr>\n    <tr>\n      <th>41198</th>\n      <td>2014-10-26 00:01:00</td>\n      <td>-</td>\n      <td>NaN</td>\n      <td>5140</td>\n    </tr>\n  </tbody>\n</table>\n<p>41199 rows × 4 columns</p>\n</div>",
            "text/plain": "                     Dates                    X          Y   add\n0      2015-05-10 23:59:00  -122.39958770418998  37.735051  3288\n1      2015-05-10 23:51:00    -122.391522893042  37.732432  4828\n2      2015-05-10 23:50:00    -122.426001954961  37.792212  3243\n3      2015-05-10 23:45:00    -122.437393972517  37.721412  5237\n4      2015-05-10 23:45:00    -122.437393972517  37.721412  5237\n5      2015-05-10 23:40:00  -122.45902362242902  37.713172  6734\n6      2015-05-10 23:30:00  -122.42561645123001  37.739351   873\n7      2015-05-10 23:30:00  -122.41265203979201  37.739750  2878\n8      2015-05-10 23:10:00    -122.418700097043  37.765165  4044\n9      2015-05-10 23:10:00    -122.413934584561  37.798886  9574\n10     2015-05-10 23:00:00  -122.40860777448499  37.746787  1134\n11     2015-05-10 23:00:00    -122.411093822635  37.761048  5694\n12     2015-05-10 23:00:00    -122.411093822635  37.761048  5694\n13     2015-05-10 23:00:00    -122.402130610278  37.799364  3173\n14     2015-05-10 23:00:00    -122.420747467177  37.807588  8078\n15     2015-05-10 22:50:00    -122.415508242782  37.781654  7667\n16     2015-05-10 22:36:00  -122.45567852962401  37.723702  1666\n17     2015-05-10 22:00:00    -122.400298318649  37.717181  1626\n18     2015-05-10 22:00:00    -122.433668534709  37.787709  2716\n19     2015-05-10 22:00:00    -122.422149614358  37.797824  7753\n20     2015-05-10 22:00:00    -122.422149614358  37.797824  7753\n21     2015-05-10 22:00:00    -122.415464372874  37.766937  2204\n22     2015-05-10 21:54:00    -122.406820555032  37.804828  2601\n23     2015-05-10 21:51:00  -122.40792248129401  37.709004  3095\n24     2015-05-10 21:35:00    -122.431289969136  37.772055  5420\n25     2015-05-10 21:30:00    -122.469906688039  37.783616  2822\n26     2015-05-10 21:30:00    -122.431149073441  37.777698  6188\n27     2015-05-10 21:16:00  -122.40340479147899  37.775421  6145\n28     2015-05-10 21:00:00  -122.45067626133002  37.735401  4311\n29     2015-05-10 21:00:00    -122.472130727218  37.753391  2540\n...                    ...                  ...        ...   ...\n41169  2014-10-26 01:00:00    -122.402070243227  37.788720  8496\n41170  2014-10-26 01:00:00    -122.413287527194  37.771196  4115\n41171  2014-10-26 01:00:00    -122.388078475154  37.732443  1987\n41172  2014-10-26 01:00:00    -122.388078475154  37.732443  1987\n41173  2014-10-26 01:00:00    -122.420515681408  37.789384  1829\n41174  2014-10-26 01:00:00  -122.43579598944599  37.798257  4503\n41175  2014-10-26 00:56:00  -122.40340479147899  37.775421  6145\n41176  2014-10-26 00:50:00  -122.40880996045401  37.798571  9502\n41177  2014-10-26 00:50:00    -122.395635436168  37.753565   186\n41178  2014-10-26 00:50:00    -122.395635436168  37.753565   186\n41179  2014-10-26 00:45:00    -122.410507458268  37.777093  7958\n41180  2014-10-26 00:45:00  -122.41812008648998  37.760301  2790\n41181  2014-10-26 00:40:00  -122.43168151491001  37.725247  2961\n41182  2014-10-26 00:38:00    -122.419374719759  37.746504  4510\n41183  2014-10-26 00:30:00    -122.436797742278  37.800803  3232\n41184  2014-10-26 00:18:00  -122.41013523637699  37.784189   926\n41185  2014-10-26 00:10:00    -122.399826049876  37.786301  1107\n41186  2014-10-26 00:05:00    -122.440504989739  37.775661  1947\n41187  2014-10-26 00:01:00  -122.48118317163001  37.743727  3557\n41188  2014-10-26 00:01:00    -122.446933310975  37.770006  7800\n41189  2014-10-26 00:01:00  -122.42236740956301  37.769868  9732\n41190  2014-10-26 00:01:00    -122.429850411503  37.777918  9866\n41191  2014-10-26 00:01:00  -122.48118317163001  37.743727  3557\n41192  2014-10-26 00:01:00  -122.48118317163001  37.743727  3557\n41193  2014-10-26 00:01:00    -122.422472490035  37.803569  1308\n41194  2014-10-26 00:01:00    -122.422472490035  37.803569  1308\n41195  2014-10-26 00:01:00    -122.408924999704  37.804717  1137\n41196  2014-10-26 00:01:00    -122.446612978839  37.782246  3896\n41197  2014-10-26 00:01:00  -122.43607183338699  37.799622  4544\n41198  2014-10-26 00:01:00                    -        NaN  5140\n\n[41199 rows x 4 columns]"
          },
          "metadata": {}
        }
      ]
    },
    {
      "metadata": {
        "trusted": true
      },
      "cell_type": "code",
      "source": "net=pd.DataFrame()\nnet=new.drop([\"X\",\"Y\"],axis='columns')",
      "execution_count": 32,
      "outputs": []
    },
    {
      "metadata": {
        "trusted": true
      },
      "cell_type": "code",
      "source": "net.head()",
      "execution_count": 33,
      "outputs": [
        {
          "output_type": "execute_result",
          "execution_count": 33,
          "data": {
            "text/html": "<div>\n<style scoped>\n    .dataframe tbody tr th:only-of-type {\n        vertical-align: middle;\n    }\n\n    .dataframe tbody tr th {\n        vertical-align: top;\n    }\n\n    .dataframe thead th {\n        text-align: right;\n    }\n</style>\n<table border=\"1\" class=\"dataframe\">\n  <thead>\n    <tr style=\"text-align: right;\">\n      <th></th>\n      <th>Dates</th>\n      <th>days</th>\n      <th>add</th>\n      <th>distt</th>\n    </tr>\n  </thead>\n  <tbody>\n    <tr>\n      <th>0</th>\n      <td>2015-05-10 23:59:00</td>\n      <td>3</td>\n      <td>3288</td>\n      <td>0</td>\n    </tr>\n    <tr>\n      <th>1</th>\n      <td>2015-05-10 23:51:00</td>\n      <td>3</td>\n      <td>4828</td>\n      <td>0</td>\n    </tr>\n    <tr>\n      <th>2</th>\n      <td>2015-05-10 23:50:00</td>\n      <td>3</td>\n      <td>3243</td>\n      <td>4</td>\n    </tr>\n    <tr>\n      <th>3</th>\n      <td>2015-05-10 23:45:00</td>\n      <td>3</td>\n      <td>5237</td>\n      <td>2</td>\n    </tr>\n    <tr>\n      <th>4</th>\n      <td>2015-05-10 23:45:00</td>\n      <td>3</td>\n      <td>5237</td>\n      <td>2</td>\n    </tr>\n  </tbody>\n</table>\n</div>",
            "text/plain": "                 Dates  days   add  distt\n0  2015-05-10 23:59:00     3  3288      0\n1  2015-05-10 23:51:00     3  4828      0\n2  2015-05-10 23:50:00     3  3243      4\n3  2015-05-10 23:45:00     3  5237      2\n4  2015-05-10 23:45:00     3  5237      2"
          },
          "metadata": {}
        }
      ]
    },
    {
      "metadata": {},
      "cell_type": "markdown",
      "source": "# date-time split"
    },
    {
      "metadata": {
        "trusted": true
      },
      "cell_type": "code",
      "source": "net['year'] = pd.DatetimeIndex(net['Dates']).year\nnet['month'] = pd.DatetimeIndex(net['Dates']).month\nnet['day'] = pd.DatetimeIndex(net['Dates']).day\nnet['hour'] = pd.DatetimeIndex(net['Dates']).hour\nnet['minute'] = pd.DatetimeIndex(net['Dates']).minute\nnet['second'] = pd.DatetimeIndex(net['Dates']).second\n",
      "execution_count": 34,
      "outputs": []
    },
    {
      "metadata": {
        "trusted": true,
        "scrolled": true
      },
      "cell_type": "code",
      "source": "net.head(50)",
      "execution_count": 35,
      "outputs": [
        {
          "output_type": "execute_result",
          "execution_count": 35,
          "data": {
            "text/html": "<div>\n<style scoped>\n    .dataframe tbody tr th:only-of-type {\n        vertical-align: middle;\n    }\n\n    .dataframe tbody tr th {\n        vertical-align: top;\n    }\n\n    .dataframe thead th {\n        text-align: right;\n    }\n</style>\n<table border=\"1\" class=\"dataframe\">\n  <thead>\n    <tr style=\"text-align: right;\">\n      <th></th>\n      <th>Dates</th>\n      <th>days</th>\n      <th>add</th>\n      <th>distt</th>\n      <th>year</th>\n      <th>month</th>\n      <th>day</th>\n      <th>hour</th>\n      <th>minute</th>\n      <th>second</th>\n    </tr>\n  </thead>\n  <tbody>\n    <tr>\n      <th>0</th>\n      <td>2015-05-10 23:59:00</td>\n      <td>3</td>\n      <td>3288</td>\n      <td>0</td>\n      <td>2015</td>\n      <td>5</td>\n      <td>10</td>\n      <td>23</td>\n      <td>59</td>\n      <td>0</td>\n    </tr>\n    <tr>\n      <th>1</th>\n      <td>2015-05-10 23:51:00</td>\n      <td>3</td>\n      <td>4828</td>\n      <td>0</td>\n      <td>2015</td>\n      <td>5</td>\n      <td>10</td>\n      <td>23</td>\n      <td>51</td>\n      <td>0</td>\n    </tr>\n    <tr>\n      <th>2</th>\n      <td>2015-05-10 23:50:00</td>\n      <td>3</td>\n      <td>3243</td>\n      <td>4</td>\n      <td>2015</td>\n      <td>5</td>\n      <td>10</td>\n      <td>23</td>\n      <td>50</td>\n      <td>0</td>\n    </tr>\n    <tr>\n      <th>3</th>\n      <td>2015-05-10 23:45:00</td>\n      <td>3</td>\n      <td>5237</td>\n      <td>2</td>\n      <td>2015</td>\n      <td>5</td>\n      <td>10</td>\n      <td>23</td>\n      <td>45</td>\n      <td>0</td>\n    </tr>\n    <tr>\n      <th>4</th>\n      <td>2015-05-10 23:45:00</td>\n      <td>3</td>\n      <td>5237</td>\n      <td>2</td>\n      <td>2015</td>\n      <td>5</td>\n      <td>10</td>\n      <td>23</td>\n      <td>45</td>\n      <td>0</td>\n    </tr>\n    <tr>\n      <th>5</th>\n      <td>2015-05-10 23:40:00</td>\n      <td>3</td>\n      <td>6734</td>\n      <td>8</td>\n      <td>2015</td>\n      <td>5</td>\n      <td>10</td>\n      <td>23</td>\n      <td>40</td>\n      <td>0</td>\n    </tr>\n    <tr>\n      <th>6</th>\n      <td>2015-05-10 23:30:00</td>\n      <td>3</td>\n      <td>873</td>\n      <td>2</td>\n      <td>2015</td>\n      <td>5</td>\n      <td>10</td>\n      <td>23</td>\n      <td>30</td>\n      <td>0</td>\n    </tr>\n    <tr>\n      <th>7</th>\n      <td>2015-05-10 23:30:00</td>\n      <td>3</td>\n      <td>2878</td>\n      <td>2</td>\n      <td>2015</td>\n      <td>5</td>\n      <td>10</td>\n      <td>23</td>\n      <td>30</td>\n      <td>0</td>\n    </tr>\n    <tr>\n      <th>8</th>\n      <td>2015-05-10 23:10:00</td>\n      <td>3</td>\n      <td>4044</td>\n      <td>3</td>\n      <td>2015</td>\n      <td>5</td>\n      <td>10</td>\n      <td>23</td>\n      <td>10</td>\n      <td>0</td>\n    </tr>\n    <tr>\n      <th>9</th>\n      <td>2015-05-10 23:10:00</td>\n      <td>3</td>\n      <td>9574</td>\n      <td>1</td>\n      <td>2015</td>\n      <td>5</td>\n      <td>10</td>\n      <td>23</td>\n      <td>10</td>\n      <td>0</td>\n    </tr>\n    <tr>\n      <th>10</th>\n      <td>2015-05-10 23:00:00</td>\n      <td>3</td>\n      <td>1134</td>\n      <td>2</td>\n      <td>2015</td>\n      <td>5</td>\n      <td>10</td>\n      <td>23</td>\n      <td>0</td>\n      <td>0</td>\n    </tr>\n    <tr>\n      <th>11</th>\n      <td>2015-05-10 23:00:00</td>\n      <td>3</td>\n      <td>5694</td>\n      <td>3</td>\n      <td>2015</td>\n      <td>5</td>\n      <td>10</td>\n      <td>23</td>\n      <td>0</td>\n      <td>0</td>\n    </tr>\n    <tr>\n      <th>12</th>\n      <td>2015-05-10 23:00:00</td>\n      <td>3</td>\n      <td>5694</td>\n      <td>3</td>\n      <td>2015</td>\n      <td>5</td>\n      <td>10</td>\n      <td>23</td>\n      <td>0</td>\n      <td>0</td>\n    </tr>\n    <tr>\n      <th>13</th>\n      <td>2015-05-10 23:00:00</td>\n      <td>3</td>\n      <td>3173</td>\n      <td>1</td>\n      <td>2015</td>\n      <td>5</td>\n      <td>10</td>\n      <td>23</td>\n      <td>0</td>\n      <td>0</td>\n    </tr>\n    <tr>\n      <th>14</th>\n      <td>2015-05-10 23:00:00</td>\n      <td>3</td>\n      <td>8078</td>\n      <td>1</td>\n      <td>2015</td>\n      <td>5</td>\n      <td>10</td>\n      <td>23</td>\n      <td>0</td>\n      <td>0</td>\n    </tr>\n    <tr>\n      <th>15</th>\n      <td>2015-05-10 22:50:00</td>\n      <td>3</td>\n      <td>7667</td>\n      <td>9</td>\n      <td>2015</td>\n      <td>5</td>\n      <td>10</td>\n      <td>22</td>\n      <td>50</td>\n      <td>0</td>\n    </tr>\n    <tr>\n      <th>16</th>\n      <td>2015-05-10 22:36:00</td>\n      <td>3</td>\n      <td>1666</td>\n      <td>8</td>\n      <td>2015</td>\n      <td>5</td>\n      <td>10</td>\n      <td>22</td>\n      <td>36</td>\n      <td>0</td>\n    </tr>\n    <tr>\n      <th>17</th>\n      <td>2015-05-10 22:00:00</td>\n      <td>3</td>\n      <td>1626</td>\n      <td>2</td>\n      <td>2015</td>\n      <td>5</td>\n      <td>10</td>\n      <td>22</td>\n      <td>0</td>\n      <td>0</td>\n    </tr>\n    <tr>\n      <th>18</th>\n      <td>2015-05-10 22:00:00</td>\n      <td>3</td>\n      <td>2716</td>\n      <td>4</td>\n      <td>2015</td>\n      <td>5</td>\n      <td>10</td>\n      <td>22</td>\n      <td>0</td>\n      <td>0</td>\n    </tr>\n    <tr>\n      <th>19</th>\n      <td>2015-05-10 22:00:00</td>\n      <td>3</td>\n      <td>7753</td>\n      <td>4</td>\n      <td>2015</td>\n      <td>5</td>\n      <td>10</td>\n      <td>22</td>\n      <td>0</td>\n      <td>0</td>\n    </tr>\n    <tr>\n      <th>20</th>\n      <td>2015-05-10 22:00:00</td>\n      <td>3</td>\n      <td>7753</td>\n      <td>4</td>\n      <td>2015</td>\n      <td>5</td>\n      <td>10</td>\n      <td>22</td>\n      <td>0</td>\n      <td>0</td>\n    </tr>\n    <tr>\n      <th>21</th>\n      <td>2015-05-10 22:00:00</td>\n      <td>3</td>\n      <td>2204</td>\n      <td>3</td>\n      <td>2015</td>\n      <td>5</td>\n      <td>10</td>\n      <td>22</td>\n      <td>0</td>\n      <td>0</td>\n    </tr>\n    <tr>\n      <th>22</th>\n      <td>2015-05-10 21:54:00</td>\n      <td>3</td>\n      <td>2601</td>\n      <td>1</td>\n      <td>2015</td>\n      <td>5</td>\n      <td>10</td>\n      <td>21</td>\n      <td>54</td>\n      <td>0</td>\n    </tr>\n    <tr>\n      <th>23</th>\n      <td>2015-05-10 21:51:00</td>\n      <td>3</td>\n      <td>3095</td>\n      <td>2</td>\n      <td>2015</td>\n      <td>5</td>\n      <td>10</td>\n      <td>21</td>\n      <td>51</td>\n      <td>0</td>\n    </tr>\n    <tr>\n      <th>24</th>\n      <td>2015-05-10 21:35:00</td>\n      <td>3</td>\n      <td>5420</td>\n      <td>4</td>\n      <td>2015</td>\n      <td>5</td>\n      <td>10</td>\n      <td>21</td>\n      <td>35</td>\n      <td>0</td>\n    </tr>\n    <tr>\n      <th>25</th>\n      <td>2015-05-10 21:30:00</td>\n      <td>3</td>\n      <td>2822</td>\n      <td>6</td>\n      <td>2015</td>\n      <td>5</td>\n      <td>10</td>\n      <td>21</td>\n      <td>30</td>\n      <td>0</td>\n    </tr>\n    <tr>\n      <th>26</th>\n      <td>2015-05-10 21:30:00</td>\n      <td>3</td>\n      <td>6188</td>\n      <td>4</td>\n      <td>2015</td>\n      <td>5</td>\n      <td>10</td>\n      <td>21</td>\n      <td>30</td>\n      <td>0</td>\n    </tr>\n    <tr>\n      <th>27</th>\n      <td>2015-05-10 21:16:00</td>\n      <td>3</td>\n      <td>6145</td>\n      <td>7</td>\n      <td>2015</td>\n      <td>5</td>\n      <td>10</td>\n      <td>21</td>\n      <td>16</td>\n      <td>0</td>\n    </tr>\n    <tr>\n      <th>28</th>\n      <td>2015-05-10 21:00:00</td>\n      <td>3</td>\n      <td>4311</td>\n      <td>2</td>\n      <td>2015</td>\n      <td>5</td>\n      <td>10</td>\n      <td>21</td>\n      <td>0</td>\n      <td>0</td>\n    </tr>\n    <tr>\n      <th>29</th>\n      <td>2015-05-10 21:00:00</td>\n      <td>3</td>\n      <td>2540</td>\n      <td>8</td>\n      <td>2015</td>\n      <td>5</td>\n      <td>10</td>\n      <td>21</td>\n      <td>0</td>\n      <td>0</td>\n    </tr>\n    <tr>\n      <th>30</th>\n      <td>2015-05-10 21:00:00</td>\n      <td>3</td>\n      <td>2723</td>\n      <td>8</td>\n      <td>2015</td>\n      <td>5</td>\n      <td>10</td>\n      <td>21</td>\n      <td>0</td>\n      <td>0</td>\n    </tr>\n    <tr>\n      <th>31</th>\n      <td>2015-05-10 21:00:00</td>\n      <td>3</td>\n      <td>1980</td>\n      <td>2</td>\n      <td>2015</td>\n      <td>5</td>\n      <td>10</td>\n      <td>21</td>\n      <td>0</td>\n      <td>0</td>\n    </tr>\n    <tr>\n      <th>32</th>\n      <td>2015-05-10 21:00:00</td>\n      <td>3</td>\n      <td>1747</td>\n      <td>8</td>\n      <td>2015</td>\n      <td>5</td>\n      <td>10</td>\n      <td>21</td>\n      <td>0</td>\n      <td>0</td>\n    </tr>\n    <tr>\n      <th>33</th>\n      <td>2015-05-10 21:00:00</td>\n      <td>3</td>\n      <td>7387</td>\n      <td>4</td>\n      <td>2015</td>\n      <td>5</td>\n      <td>10</td>\n      <td>21</td>\n      <td>0</td>\n      <td>0</td>\n    </tr>\n    <tr>\n      <th>34</th>\n      <td>2015-05-10 21:00:00</td>\n      <td>3</td>\n      <td>9592</td>\n      <td>0</td>\n      <td>2015</td>\n      <td>5</td>\n      <td>10</td>\n      <td>21</td>\n      <td>0</td>\n      <td>0</td>\n    </tr>\n    <tr>\n      <th>35</th>\n      <td>2015-05-10 21:00:00</td>\n      <td>3</td>\n      <td>7513</td>\n      <td>6</td>\n      <td>2015</td>\n      <td>5</td>\n      <td>10</td>\n      <td>21</td>\n      <td>0</td>\n      <td>0</td>\n    </tr>\n    <tr>\n      <th>36</th>\n      <td>2015-05-10 20:37:00</td>\n      <td>3</td>\n      <td>8632</td>\n      <td>7</td>\n      <td>2015</td>\n      <td>5</td>\n      <td>10</td>\n      <td>20</td>\n      <td>37</td>\n      <td>0</td>\n    </tr>\n    <tr>\n      <th>37</th>\n      <td>2015-05-10 20:30:00</td>\n      <td>3</td>\n      <td>3193</td>\n      <td>5</td>\n      <td>2015</td>\n      <td>5</td>\n      <td>10</td>\n      <td>20</td>\n      <td>30</td>\n      <td>0</td>\n    </tr>\n    <tr>\n      <th>38</th>\n      <td>2015-05-10 20:30:00</td>\n      <td>3</td>\n      <td>3324</td>\n      <td>8</td>\n      <td>2015</td>\n      <td>5</td>\n      <td>10</td>\n      <td>20</td>\n      <td>30</td>\n      <td>0</td>\n    </tr>\n    <tr>\n      <th>39</th>\n      <td>2015-05-10 20:30:00</td>\n      <td>3</td>\n      <td>3483</td>\n      <td>8</td>\n      <td>2015</td>\n      <td>5</td>\n      <td>10</td>\n      <td>20</td>\n      <td>30</td>\n      <td>0</td>\n    </tr>\n    <tr>\n      <th>40</th>\n      <td>2015-05-10 20:30:00</td>\n      <td>3</td>\n      <td>5289</td>\n      <td>6</td>\n      <td>2015</td>\n      <td>5</td>\n      <td>10</td>\n      <td>20</td>\n      <td>30</td>\n      <td>0</td>\n    </tr>\n    <tr>\n      <th>41</th>\n      <td>2015-05-10 20:30:00</td>\n      <td>3</td>\n      <td>3483</td>\n      <td>8</td>\n      <td>2015</td>\n      <td>5</td>\n      <td>10</td>\n      <td>20</td>\n      <td>30</td>\n      <td>0</td>\n    </tr>\n    <tr>\n      <th>42</th>\n      <td>2015-05-10 20:12:00</td>\n      <td>3</td>\n      <td>1369</td>\n      <td>3</td>\n      <td>2015</td>\n      <td>5</td>\n      <td>10</td>\n      <td>20</td>\n      <td>12</td>\n      <td>0</td>\n    </tr>\n    <tr>\n      <th>43</th>\n      <td>2015-05-10 20:00:00</td>\n      <td>3</td>\n      <td>4406</td>\n      <td>0</td>\n      <td>2015</td>\n      <td>5</td>\n      <td>10</td>\n      <td>20</td>\n      <td>0</td>\n      <td>0</td>\n    </tr>\n    <tr>\n      <th>44</th>\n      <td>2015-05-10 20:00:00</td>\n      <td>3</td>\n      <td>3056</td>\n      <td>2</td>\n      <td>2015</td>\n      <td>5</td>\n      <td>10</td>\n      <td>20</td>\n      <td>0</td>\n      <td>0</td>\n    </tr>\n    <tr>\n      <th>45</th>\n      <td>2015-05-10 20:00:00</td>\n      <td>3</td>\n      <td>1794</td>\n      <td>4</td>\n      <td>2015</td>\n      <td>5</td>\n      <td>10</td>\n      <td>20</td>\n      <td>0</td>\n      <td>0</td>\n    </tr>\n    <tr>\n      <th>46</th>\n      <td>2015-05-10 20:00:00</td>\n      <td>3</td>\n      <td>7343</td>\n      <td>4</td>\n      <td>2015</td>\n      <td>5</td>\n      <td>10</td>\n      <td>20</td>\n      <td>0</td>\n      <td>0</td>\n    </tr>\n    <tr>\n      <th>47</th>\n      <td>2015-05-10 20:00:00</td>\n      <td>3</td>\n      <td>8468</td>\n      <td>7</td>\n      <td>2015</td>\n      <td>5</td>\n      <td>10</td>\n      <td>20</td>\n      <td>0</td>\n      <td>0</td>\n    </tr>\n    <tr>\n      <th>48</th>\n      <td>2015-05-10 20:00:00</td>\n      <td>3</td>\n      <td>9075</td>\n      <td>4</td>\n      <td>2015</td>\n      <td>5</td>\n      <td>10</td>\n      <td>20</td>\n      <td>0</td>\n      <td>0</td>\n    </tr>\n    <tr>\n      <th>49</th>\n      <td>2015-05-10 20:00:00</td>\n      <td>3</td>\n      <td>8685</td>\n      <td>2</td>\n      <td>2015</td>\n      <td>5</td>\n      <td>10</td>\n      <td>20</td>\n      <td>0</td>\n      <td>0</td>\n    </tr>\n  </tbody>\n</table>\n</div>",
            "text/plain": "                  Dates  days   add  distt  year  month  day  hour  minute  \\\n0   2015-05-10 23:59:00     3  3288      0  2015      5   10    23      59   \n1   2015-05-10 23:51:00     3  4828      0  2015      5   10    23      51   \n2   2015-05-10 23:50:00     3  3243      4  2015      5   10    23      50   \n3   2015-05-10 23:45:00     3  5237      2  2015      5   10    23      45   \n4   2015-05-10 23:45:00     3  5237      2  2015      5   10    23      45   \n5   2015-05-10 23:40:00     3  6734      8  2015      5   10    23      40   \n6   2015-05-10 23:30:00     3   873      2  2015      5   10    23      30   \n7   2015-05-10 23:30:00     3  2878      2  2015      5   10    23      30   \n8   2015-05-10 23:10:00     3  4044      3  2015      5   10    23      10   \n9   2015-05-10 23:10:00     3  9574      1  2015      5   10    23      10   \n10  2015-05-10 23:00:00     3  1134      2  2015      5   10    23       0   \n11  2015-05-10 23:00:00     3  5694      3  2015      5   10    23       0   \n12  2015-05-10 23:00:00     3  5694      3  2015      5   10    23       0   \n13  2015-05-10 23:00:00     3  3173      1  2015      5   10    23       0   \n14  2015-05-10 23:00:00     3  8078      1  2015      5   10    23       0   \n15  2015-05-10 22:50:00     3  7667      9  2015      5   10    22      50   \n16  2015-05-10 22:36:00     3  1666      8  2015      5   10    22      36   \n17  2015-05-10 22:00:00     3  1626      2  2015      5   10    22       0   \n18  2015-05-10 22:00:00     3  2716      4  2015      5   10    22       0   \n19  2015-05-10 22:00:00     3  7753      4  2015      5   10    22       0   \n20  2015-05-10 22:00:00     3  7753      4  2015      5   10    22       0   \n21  2015-05-10 22:00:00     3  2204      3  2015      5   10    22       0   \n22  2015-05-10 21:54:00     3  2601      1  2015      5   10    21      54   \n23  2015-05-10 21:51:00     3  3095      2  2015      5   10    21      51   \n24  2015-05-10 21:35:00     3  5420      4  2015      5   10    21      35   \n25  2015-05-10 21:30:00     3  2822      6  2015      5   10    21      30   \n26  2015-05-10 21:30:00     3  6188      4  2015      5   10    21      30   \n27  2015-05-10 21:16:00     3  6145      7  2015      5   10    21      16   \n28  2015-05-10 21:00:00     3  4311      2  2015      5   10    21       0   \n29  2015-05-10 21:00:00     3  2540      8  2015      5   10    21       0   \n30  2015-05-10 21:00:00     3  2723      8  2015      5   10    21       0   \n31  2015-05-10 21:00:00     3  1980      2  2015      5   10    21       0   \n32  2015-05-10 21:00:00     3  1747      8  2015      5   10    21       0   \n33  2015-05-10 21:00:00     3  7387      4  2015      5   10    21       0   \n34  2015-05-10 21:00:00     3  9592      0  2015      5   10    21       0   \n35  2015-05-10 21:00:00     3  7513      6  2015      5   10    21       0   \n36  2015-05-10 20:37:00     3  8632      7  2015      5   10    20      37   \n37  2015-05-10 20:30:00     3  3193      5  2015      5   10    20      30   \n38  2015-05-10 20:30:00     3  3324      8  2015      5   10    20      30   \n39  2015-05-10 20:30:00     3  3483      8  2015      5   10    20      30   \n40  2015-05-10 20:30:00     3  5289      6  2015      5   10    20      30   \n41  2015-05-10 20:30:00     3  3483      8  2015      5   10    20      30   \n42  2015-05-10 20:12:00     3  1369      3  2015      5   10    20      12   \n43  2015-05-10 20:00:00     3  4406      0  2015      5   10    20       0   \n44  2015-05-10 20:00:00     3  3056      2  2015      5   10    20       0   \n45  2015-05-10 20:00:00     3  1794      4  2015      5   10    20       0   \n46  2015-05-10 20:00:00     3  7343      4  2015      5   10    20       0   \n47  2015-05-10 20:00:00     3  8468      7  2015      5   10    20       0   \n48  2015-05-10 20:00:00     3  9075      4  2015      5   10    20       0   \n49  2015-05-10 20:00:00     3  8685      2  2015      5   10    20       0   \n\n    second  \n0        0  \n1        0  \n2        0  \n3        0  \n4        0  \n5        0  \n6        0  \n7        0  \n8        0  \n9        0  \n10       0  \n11       0  \n12       0  \n13       0  \n14       0  \n15       0  \n16       0  \n17       0  \n18       0  \n19       0  \n20       0  \n21       0  \n22       0  \n23       0  \n24       0  \n25       0  \n26       0  \n27       0  \n28       0  \n29       0  \n30       0  \n31       0  \n32       0  \n33       0  \n34       0  \n35       0  \n36       0  \n37       0  \n38       0  \n39       0  \n40       0  \n41       0  \n42       0  \n43       0  \n44       0  \n45       0  \n46       0  \n47       0  \n48       0  \n49       0  "
          },
          "metadata": {}
        }
      ]
    },
    {
      "metadata": {
        "trusted": true,
        "scrolled": true
      },
      "cell_type": "code",
      "source": "net=net.drop(['Dates','second','year',],axis='columns')",
      "execution_count": 36,
      "outputs": []
    },
    {
      "metadata": {
        "trusted": true,
        "scrolled": true
      },
      "cell_type": "code",
      "source": "net",
      "execution_count": 37,
      "outputs": [
        {
          "output_type": "execute_result",
          "execution_count": 37,
          "data": {
            "text/html": "<div>\n<style scoped>\n    .dataframe tbody tr th:only-of-type {\n        vertical-align: middle;\n    }\n\n    .dataframe tbody tr th {\n        vertical-align: top;\n    }\n\n    .dataframe thead th {\n        text-align: right;\n    }\n</style>\n<table border=\"1\" class=\"dataframe\">\n  <thead>\n    <tr style=\"text-align: right;\">\n      <th></th>\n      <th>days</th>\n      <th>add</th>\n      <th>distt</th>\n      <th>month</th>\n      <th>day</th>\n      <th>hour</th>\n      <th>minute</th>\n    </tr>\n  </thead>\n  <tbody>\n    <tr>\n      <th>0</th>\n      <td>3</td>\n      <td>3288</td>\n      <td>0</td>\n      <td>5</td>\n      <td>10</td>\n      <td>23</td>\n      <td>59</td>\n    </tr>\n    <tr>\n      <th>1</th>\n      <td>3</td>\n      <td>4828</td>\n      <td>0</td>\n      <td>5</td>\n      <td>10</td>\n      <td>23</td>\n      <td>51</td>\n    </tr>\n    <tr>\n      <th>2</th>\n      <td>3</td>\n      <td>3243</td>\n      <td>4</td>\n      <td>5</td>\n      <td>10</td>\n      <td>23</td>\n      <td>50</td>\n    </tr>\n    <tr>\n      <th>3</th>\n      <td>3</td>\n      <td>5237</td>\n      <td>2</td>\n      <td>5</td>\n      <td>10</td>\n      <td>23</td>\n      <td>45</td>\n    </tr>\n    <tr>\n      <th>4</th>\n      <td>3</td>\n      <td>5237</td>\n      <td>2</td>\n      <td>5</td>\n      <td>10</td>\n      <td>23</td>\n      <td>45</td>\n    </tr>\n    <tr>\n      <th>5</th>\n      <td>3</td>\n      <td>6734</td>\n      <td>8</td>\n      <td>5</td>\n      <td>10</td>\n      <td>23</td>\n      <td>40</td>\n    </tr>\n    <tr>\n      <th>6</th>\n      <td>3</td>\n      <td>873</td>\n      <td>2</td>\n      <td>5</td>\n      <td>10</td>\n      <td>23</td>\n      <td>30</td>\n    </tr>\n    <tr>\n      <th>7</th>\n      <td>3</td>\n      <td>2878</td>\n      <td>2</td>\n      <td>5</td>\n      <td>10</td>\n      <td>23</td>\n      <td>30</td>\n    </tr>\n    <tr>\n      <th>8</th>\n      <td>3</td>\n      <td>4044</td>\n      <td>3</td>\n      <td>5</td>\n      <td>10</td>\n      <td>23</td>\n      <td>10</td>\n    </tr>\n    <tr>\n      <th>9</th>\n      <td>3</td>\n      <td>9574</td>\n      <td>1</td>\n      <td>5</td>\n      <td>10</td>\n      <td>23</td>\n      <td>10</td>\n    </tr>\n    <tr>\n      <th>10</th>\n      <td>3</td>\n      <td>1134</td>\n      <td>2</td>\n      <td>5</td>\n      <td>10</td>\n      <td>23</td>\n      <td>0</td>\n    </tr>\n    <tr>\n      <th>11</th>\n      <td>3</td>\n      <td>5694</td>\n      <td>3</td>\n      <td>5</td>\n      <td>10</td>\n      <td>23</td>\n      <td>0</td>\n    </tr>\n    <tr>\n      <th>12</th>\n      <td>3</td>\n      <td>5694</td>\n      <td>3</td>\n      <td>5</td>\n      <td>10</td>\n      <td>23</td>\n      <td>0</td>\n    </tr>\n    <tr>\n      <th>13</th>\n      <td>3</td>\n      <td>3173</td>\n      <td>1</td>\n      <td>5</td>\n      <td>10</td>\n      <td>23</td>\n      <td>0</td>\n    </tr>\n    <tr>\n      <th>14</th>\n      <td>3</td>\n      <td>8078</td>\n      <td>1</td>\n      <td>5</td>\n      <td>10</td>\n      <td>23</td>\n      <td>0</td>\n    </tr>\n    <tr>\n      <th>15</th>\n      <td>3</td>\n      <td>7667</td>\n      <td>9</td>\n      <td>5</td>\n      <td>10</td>\n      <td>22</td>\n      <td>50</td>\n    </tr>\n    <tr>\n      <th>16</th>\n      <td>3</td>\n      <td>1666</td>\n      <td>8</td>\n      <td>5</td>\n      <td>10</td>\n      <td>22</td>\n      <td>36</td>\n    </tr>\n    <tr>\n      <th>17</th>\n      <td>3</td>\n      <td>1626</td>\n      <td>2</td>\n      <td>5</td>\n      <td>10</td>\n      <td>22</td>\n      <td>0</td>\n    </tr>\n    <tr>\n      <th>18</th>\n      <td>3</td>\n      <td>2716</td>\n      <td>4</td>\n      <td>5</td>\n      <td>10</td>\n      <td>22</td>\n      <td>0</td>\n    </tr>\n    <tr>\n      <th>19</th>\n      <td>3</td>\n      <td>7753</td>\n      <td>4</td>\n      <td>5</td>\n      <td>10</td>\n      <td>22</td>\n      <td>0</td>\n    </tr>\n    <tr>\n      <th>20</th>\n      <td>3</td>\n      <td>7753</td>\n      <td>4</td>\n      <td>5</td>\n      <td>10</td>\n      <td>22</td>\n      <td>0</td>\n    </tr>\n    <tr>\n      <th>21</th>\n      <td>3</td>\n      <td>2204</td>\n      <td>3</td>\n      <td>5</td>\n      <td>10</td>\n      <td>22</td>\n      <td>0</td>\n    </tr>\n    <tr>\n      <th>22</th>\n      <td>3</td>\n      <td>2601</td>\n      <td>1</td>\n      <td>5</td>\n      <td>10</td>\n      <td>21</td>\n      <td>54</td>\n    </tr>\n    <tr>\n      <th>23</th>\n      <td>3</td>\n      <td>3095</td>\n      <td>2</td>\n      <td>5</td>\n      <td>10</td>\n      <td>21</td>\n      <td>51</td>\n    </tr>\n    <tr>\n      <th>24</th>\n      <td>3</td>\n      <td>5420</td>\n      <td>4</td>\n      <td>5</td>\n      <td>10</td>\n      <td>21</td>\n      <td>35</td>\n    </tr>\n    <tr>\n      <th>25</th>\n      <td>3</td>\n      <td>2822</td>\n      <td>6</td>\n      <td>5</td>\n      <td>10</td>\n      <td>21</td>\n      <td>30</td>\n    </tr>\n    <tr>\n      <th>26</th>\n      <td>3</td>\n      <td>6188</td>\n      <td>4</td>\n      <td>5</td>\n      <td>10</td>\n      <td>21</td>\n      <td>30</td>\n    </tr>\n    <tr>\n      <th>27</th>\n      <td>3</td>\n      <td>6145</td>\n      <td>7</td>\n      <td>5</td>\n      <td>10</td>\n      <td>21</td>\n      <td>16</td>\n    </tr>\n    <tr>\n      <th>28</th>\n      <td>3</td>\n      <td>4311</td>\n      <td>2</td>\n      <td>5</td>\n      <td>10</td>\n      <td>21</td>\n      <td>0</td>\n    </tr>\n    <tr>\n      <th>29</th>\n      <td>3</td>\n      <td>2540</td>\n      <td>8</td>\n      <td>5</td>\n      <td>10</td>\n      <td>21</td>\n      <td>0</td>\n    </tr>\n    <tr>\n      <th>...</th>\n      <td>...</td>\n      <td>...</td>\n      <td>...</td>\n      <td>...</td>\n      <td>...</td>\n      <td>...</td>\n      <td>...</td>\n    </tr>\n    <tr>\n      <th>41169</th>\n      <td>3</td>\n      <td>8496</td>\n      <td>7</td>\n      <td>10</td>\n      <td>26</td>\n      <td>1</td>\n      <td>0</td>\n    </tr>\n    <tr>\n      <th>41170</th>\n      <td>3</td>\n      <td>4115</td>\n      <td>7</td>\n      <td>10</td>\n      <td>26</td>\n      <td>1</td>\n      <td>0</td>\n    </tr>\n    <tr>\n      <th>41171</th>\n      <td>3</td>\n      <td>1987</td>\n      <td>0</td>\n      <td>10</td>\n      <td>26</td>\n      <td>1</td>\n      <td>0</td>\n    </tr>\n    <tr>\n      <th>41172</th>\n      <td>3</td>\n      <td>1987</td>\n      <td>0</td>\n      <td>10</td>\n      <td>26</td>\n      <td>1</td>\n      <td>0</td>\n    </tr>\n    <tr>\n      <th>41173</th>\n      <td>3</td>\n      <td>1829</td>\n      <td>4</td>\n      <td>10</td>\n      <td>26</td>\n      <td>1</td>\n      <td>0</td>\n    </tr>\n    <tr>\n      <th>41174</th>\n      <td>3</td>\n      <td>4503</td>\n      <td>4</td>\n      <td>10</td>\n      <td>26</td>\n      <td>1</td>\n      <td>0</td>\n    </tr>\n    <tr>\n      <th>41175</th>\n      <td>3</td>\n      <td>6145</td>\n      <td>7</td>\n      <td>10</td>\n      <td>26</td>\n      <td>0</td>\n      <td>56</td>\n    </tr>\n    <tr>\n      <th>41176</th>\n      <td>3</td>\n      <td>9502</td>\n      <td>1</td>\n      <td>10</td>\n      <td>26</td>\n      <td>0</td>\n      <td>50</td>\n    </tr>\n    <tr>\n      <th>41177</th>\n      <td>3</td>\n      <td>186</td>\n      <td>0</td>\n      <td>10</td>\n      <td>26</td>\n      <td>0</td>\n      <td>50</td>\n    </tr>\n    <tr>\n      <th>41178</th>\n      <td>3</td>\n      <td>186</td>\n      <td>0</td>\n      <td>10</td>\n      <td>26</td>\n      <td>0</td>\n      <td>50</td>\n    </tr>\n    <tr>\n      <th>41179</th>\n      <td>3</td>\n      <td>7958</td>\n      <td>7</td>\n      <td>10</td>\n      <td>26</td>\n      <td>0</td>\n      <td>45</td>\n    </tr>\n    <tr>\n      <th>41180</th>\n      <td>3</td>\n      <td>2790</td>\n      <td>3</td>\n      <td>10</td>\n      <td>26</td>\n      <td>0</td>\n      <td>45</td>\n    </tr>\n    <tr>\n      <th>41181</th>\n      <td>3</td>\n      <td>2961</td>\n      <td>2</td>\n      <td>10</td>\n      <td>26</td>\n      <td>0</td>\n      <td>40</td>\n    </tr>\n    <tr>\n      <th>41182</th>\n      <td>3</td>\n      <td>4510</td>\n      <td>2</td>\n      <td>10</td>\n      <td>26</td>\n      <td>0</td>\n      <td>38</td>\n    </tr>\n    <tr>\n      <th>41183</th>\n      <td>3</td>\n      <td>3232</td>\n      <td>4</td>\n      <td>10</td>\n      <td>26</td>\n      <td>0</td>\n      <td>30</td>\n    </tr>\n    <tr>\n      <th>41184</th>\n      <td>3</td>\n      <td>926</td>\n      <td>9</td>\n      <td>10</td>\n      <td>26</td>\n      <td>0</td>\n      <td>18</td>\n    </tr>\n    <tr>\n      <th>41185</th>\n      <td>3</td>\n      <td>1107</td>\n      <td>7</td>\n      <td>10</td>\n      <td>26</td>\n      <td>0</td>\n      <td>10</td>\n    </tr>\n    <tr>\n      <th>41186</th>\n      <td>3</td>\n      <td>1947</td>\n      <td>5</td>\n      <td>10</td>\n      <td>26</td>\n      <td>0</td>\n      <td>5</td>\n    </tr>\n    <tr>\n      <th>41187</th>\n      <td>3</td>\n      <td>3557</td>\n      <td>8</td>\n      <td>10</td>\n      <td>26</td>\n      <td>0</td>\n      <td>1</td>\n    </tr>\n    <tr>\n      <th>41188</th>\n      <td>3</td>\n      <td>7800</td>\n      <td>5</td>\n      <td>10</td>\n      <td>26</td>\n      <td>0</td>\n      <td>1</td>\n    </tr>\n    <tr>\n      <th>41189</th>\n      <td>3</td>\n      <td>9732</td>\n      <td>3</td>\n      <td>10</td>\n      <td>26</td>\n      <td>0</td>\n      <td>1</td>\n    </tr>\n    <tr>\n      <th>41190</th>\n      <td>3</td>\n      <td>9866</td>\n      <td>4</td>\n      <td>10</td>\n      <td>26</td>\n      <td>0</td>\n      <td>1</td>\n    </tr>\n    <tr>\n      <th>41191</th>\n      <td>3</td>\n      <td>3557</td>\n      <td>8</td>\n      <td>10</td>\n      <td>26</td>\n      <td>0</td>\n      <td>1</td>\n    </tr>\n    <tr>\n      <th>41192</th>\n      <td>3</td>\n      <td>3557</td>\n      <td>8</td>\n      <td>10</td>\n      <td>26</td>\n      <td>0</td>\n      <td>1</td>\n    </tr>\n    <tr>\n      <th>41193</th>\n      <td>3</td>\n      <td>1308</td>\n      <td>4</td>\n      <td>10</td>\n      <td>26</td>\n      <td>0</td>\n      <td>1</td>\n    </tr>\n    <tr>\n      <th>41194</th>\n      <td>3</td>\n      <td>1308</td>\n      <td>4</td>\n      <td>10</td>\n      <td>26</td>\n      <td>0</td>\n      <td>1</td>\n    </tr>\n    <tr>\n      <th>41195</th>\n      <td>3</td>\n      <td>1137</td>\n      <td>1</td>\n      <td>10</td>\n      <td>26</td>\n      <td>0</td>\n      <td>1</td>\n    </tr>\n    <tr>\n      <th>41196</th>\n      <td>3</td>\n      <td>3896</td>\n      <td>5</td>\n      <td>10</td>\n      <td>26</td>\n      <td>0</td>\n      <td>1</td>\n    </tr>\n    <tr>\n      <th>41197</th>\n      <td>3</td>\n      <td>4544</td>\n      <td>4</td>\n      <td>10</td>\n      <td>26</td>\n      <td>0</td>\n      <td>1</td>\n    </tr>\n    <tr>\n      <th>41198</th>\n      <td>3</td>\n      <td>5140</td>\n      <td>3</td>\n      <td>10</td>\n      <td>26</td>\n      <td>0</td>\n      <td>1</td>\n    </tr>\n  </tbody>\n</table>\n<p>41199 rows × 7 columns</p>\n</div>",
            "text/plain": "       days   add  distt  month  day  hour  minute\n0         3  3288      0      5   10    23      59\n1         3  4828      0      5   10    23      51\n2         3  3243      4      5   10    23      50\n3         3  5237      2      5   10    23      45\n4         3  5237      2      5   10    23      45\n5         3  6734      8      5   10    23      40\n6         3   873      2      5   10    23      30\n7         3  2878      2      5   10    23      30\n8         3  4044      3      5   10    23      10\n9         3  9574      1      5   10    23      10\n10        3  1134      2      5   10    23       0\n11        3  5694      3      5   10    23       0\n12        3  5694      3      5   10    23       0\n13        3  3173      1      5   10    23       0\n14        3  8078      1      5   10    23       0\n15        3  7667      9      5   10    22      50\n16        3  1666      8      5   10    22      36\n17        3  1626      2      5   10    22       0\n18        3  2716      4      5   10    22       0\n19        3  7753      4      5   10    22       0\n20        3  7753      4      5   10    22       0\n21        3  2204      3      5   10    22       0\n22        3  2601      1      5   10    21      54\n23        3  3095      2      5   10    21      51\n24        3  5420      4      5   10    21      35\n25        3  2822      6      5   10    21      30\n26        3  6188      4      5   10    21      30\n27        3  6145      7      5   10    21      16\n28        3  4311      2      5   10    21       0\n29        3  2540      8      5   10    21       0\n...     ...   ...    ...    ...  ...   ...     ...\n41169     3  8496      7     10   26     1       0\n41170     3  4115      7     10   26     1       0\n41171     3  1987      0     10   26     1       0\n41172     3  1987      0     10   26     1       0\n41173     3  1829      4     10   26     1       0\n41174     3  4503      4     10   26     1       0\n41175     3  6145      7     10   26     0      56\n41176     3  9502      1     10   26     0      50\n41177     3   186      0     10   26     0      50\n41178     3   186      0     10   26     0      50\n41179     3  7958      7     10   26     0      45\n41180     3  2790      3     10   26     0      45\n41181     3  2961      2     10   26     0      40\n41182     3  4510      2     10   26     0      38\n41183     3  3232      4     10   26     0      30\n41184     3   926      9     10   26     0      18\n41185     3  1107      7     10   26     0      10\n41186     3  1947      5     10   26     0       5\n41187     3  3557      8     10   26     0       1\n41188     3  7800      5     10   26     0       1\n41189     3  9732      3     10   26     0       1\n41190     3  9866      4     10   26     0       1\n41191     3  3557      8     10   26     0       1\n41192     3  3557      8     10   26     0       1\n41193     3  1308      4     10   26     0       1\n41194     3  1308      4     10   26     0       1\n41195     3  1137      1     10   26     0       1\n41196     3  3896      5     10   26     0       1\n41197     3  4544      4     10   26     0       1\n41198     3  5140      3     10   26     0       1\n\n[41199 rows x 7 columns]"
          },
          "metadata": {}
        }
      ]
    },
    {
      "metadata": {
        "trusted": true
      },
      "cell_type": "code",
      "source": "len(net)",
      "execution_count": 38,
      "outputs": [
        {
          "output_type": "execute_result",
          "execution_count": 38,
          "data": {
            "text/plain": "41199"
          },
          "metadata": {}
        }
      ]
    },
    {
      "metadata": {},
      "cell_type": "markdown",
      "source": "as we cannot analyze large data set with online servers, we take sample dataset of 20000 rows."
    },
    {
      "metadata": {
        "trusted": true
      },
      "cell_type": "code",
      "source": "net=net.sample(20000)",
      "execution_count": 39,
      "outputs": []
    },
    {
      "metadata": {
        "trusted": true
      },
      "cell_type": "code",
      "source": "net=net.reset_index()",
      "execution_count": 40,
      "outputs": []
    },
    {
      "metadata": {
        "trusted": true
      },
      "cell_type": "code",
      "source": "",
      "execution_count": null,
      "outputs": []
    },
    {
      "metadata": {
        "trusted": true
      },
      "cell_type": "code",
      "source": "",
      "execution_count": null,
      "outputs": []
    },
    {
      "metadata": {
        "trusted": true
      },
      "cell_type": "code",
      "source": "",
      "execution_count": null,
      "outputs": []
    },
    {
      "metadata": {
        "trusted": true
      },
      "cell_type": "code",
      "source": "",
      "execution_count": null,
      "outputs": []
    },
    {
      "metadata": {
        "trusted": true
      },
      "cell_type": "code",
      "source": "",
      "execution_count": null,
      "outputs": []
    },
    {
      "metadata": {},
      "cell_type": "markdown",
      "source": "##  target and train variable splitting"
    },
    {
      "metadata": {
        "trusted": true
      },
      "cell_type": "code",
      "source": "target=net['add']\nnet=net.drop(['add'],axis='columns')",
      "execution_count": 41,
      "outputs": []
    },
    {
      "metadata": {
        "trusted": true
      },
      "cell_type": "code",
      "source": "net.head()",
      "execution_count": 42,
      "outputs": [
        {
          "output_type": "execute_result",
          "execution_count": 42,
          "data": {
            "text/html": "<div>\n<style scoped>\n    .dataframe tbody tr th:only-of-type {\n        vertical-align: middle;\n    }\n\n    .dataframe tbody tr th {\n        vertical-align: top;\n    }\n\n    .dataframe thead th {\n        text-align: right;\n    }\n</style>\n<table border=\"1\" class=\"dataframe\">\n  <thead>\n    <tr style=\"text-align: right;\">\n      <th></th>\n      <th>index</th>\n      <th>days</th>\n      <th>distt</th>\n      <th>month</th>\n      <th>day</th>\n      <th>hour</th>\n      <th>minute</th>\n    </tr>\n  </thead>\n  <tbody>\n    <tr>\n      <th>0</th>\n      <td>33181</td>\n      <td>2</td>\n      <td>1</td>\n      <td>12</td>\n      <td>6</td>\n      <td>6</td>\n      <td>25</td>\n    </tr>\n    <tr>\n      <th>1</th>\n      <td>34795</td>\n      <td>1</td>\n      <td>1</td>\n      <td>12</td>\n      <td>1</td>\n      <td>21</td>\n      <td>0</td>\n    </tr>\n    <tr>\n      <th>2</th>\n      <td>22210</td>\n      <td>4</td>\n      <td>5</td>\n      <td>1</td>\n      <td>29</td>\n      <td>14</td>\n      <td>30</td>\n    </tr>\n    <tr>\n      <th>3</th>\n      <td>6394</td>\n      <td>0</td>\n      <td>3</td>\n      <td>4</td>\n      <td>10</td>\n      <td>23</td>\n      <td>33</td>\n    </tr>\n    <tr>\n      <th>4</th>\n      <td>32401</td>\n      <td>1</td>\n      <td>7</td>\n      <td>12</td>\n      <td>15</td>\n      <td>10</td>\n      <td>35</td>\n    </tr>\n  </tbody>\n</table>\n</div>",
            "text/plain": "   index  days  distt  month  day  hour  minute\n0  33181     2      1     12    6     6      25\n1  34795     1      1     12    1    21       0\n2  22210     4      5      1   29    14      30\n3   6394     0      3      4   10    23      33\n4  32401     1      7     12   15    10      35"
          },
          "metadata": {}
        }
      ]
    },
    {
      "metadata": {
        "trusted": true
      },
      "cell_type": "code",
      "source": "net=net.drop([\"index\"],axis='columns')",
      "execution_count": 43,
      "outputs": []
    },
    {
      "metadata": {
        "trusted": true
      },
      "cell_type": "code",
      "source": "target.head()",
      "execution_count": 44,
      "outputs": [
        {
          "output_type": "execute_result",
          "execution_count": 44,
          "data": {
            "text/plain": "0    7771\n1    1771\n2    7609\n3    2659\n4    1814\nName: add, dtype: int64"
          },
          "metadata": {}
        }
      ]
    },
    {
      "metadata": {},
      "cell_type": "raw",
      "source": ""
    },
    {
      "metadata": {
        "trusted": true
      },
      "cell_type": "code",
      "source": "len(net)",
      "execution_count": 45,
      "outputs": [
        {
          "output_type": "execute_result",
          "execution_count": 45,
          "data": {
            "text/plain": "20000"
          },
          "metadata": {}
        }
      ]
    },
    {
      "metadata": {
        "trusted": true
      },
      "cell_type": "code",
      "source": "len(target)",
      "execution_count": 46,
      "outputs": [
        {
          "output_type": "execute_result",
          "execution_count": 46,
          "data": {
            "text/plain": "20000"
          },
          "metadata": {}
        }
      ]
    },
    {
      "metadata": {
        "trusted": true
      },
      "cell_type": "code",
      "source": "",
      "execution_count": null,
      "outputs": []
    },
    {
      "metadata": {
        "trusted": true
      },
      "cell_type": "code",
      "source": " net=net.reset_index()\ntarget=target.reset_index()",
      "execution_count": 47,
      "outputs": []
    },
    {
      "metadata": {
        "trusted": true
      },
      "cell_type": "code",
      "source": " net=net.drop([\"index\"],axis='columns')\ntarget=target.drop([\"index\"],axis='columns')",
      "execution_count": 48,
      "outputs": []
    },
    {
      "metadata": {
        "trusted": true
      },
      "cell_type": "code",
      "source": "net.head()",
      "execution_count": 49,
      "outputs": [
        {
          "output_type": "execute_result",
          "execution_count": 49,
          "data": {
            "text/html": "<div>\n<style scoped>\n    .dataframe tbody tr th:only-of-type {\n        vertical-align: middle;\n    }\n\n    .dataframe tbody tr th {\n        vertical-align: top;\n    }\n\n    .dataframe thead th {\n        text-align: right;\n    }\n</style>\n<table border=\"1\" class=\"dataframe\">\n  <thead>\n    <tr style=\"text-align: right;\">\n      <th></th>\n      <th>days</th>\n      <th>distt</th>\n      <th>month</th>\n      <th>day</th>\n      <th>hour</th>\n      <th>minute</th>\n    </tr>\n  </thead>\n  <tbody>\n    <tr>\n      <th>0</th>\n      <td>2</td>\n      <td>1</td>\n      <td>12</td>\n      <td>6</td>\n      <td>6</td>\n      <td>25</td>\n    </tr>\n    <tr>\n      <th>1</th>\n      <td>1</td>\n      <td>1</td>\n      <td>12</td>\n      <td>1</td>\n      <td>21</td>\n      <td>0</td>\n    </tr>\n    <tr>\n      <th>2</th>\n      <td>4</td>\n      <td>5</td>\n      <td>1</td>\n      <td>29</td>\n      <td>14</td>\n      <td>30</td>\n    </tr>\n    <tr>\n      <th>3</th>\n      <td>0</td>\n      <td>3</td>\n      <td>4</td>\n      <td>10</td>\n      <td>23</td>\n      <td>33</td>\n    </tr>\n    <tr>\n      <th>4</th>\n      <td>1</td>\n      <td>7</td>\n      <td>12</td>\n      <td>15</td>\n      <td>10</td>\n      <td>35</td>\n    </tr>\n  </tbody>\n</table>\n</div>",
            "text/plain": "   days  distt  month  day  hour  minute\n0     2      1     12    6     6      25\n1     1      1     12    1    21       0\n2     4      5      1   29    14      30\n3     0      3      4   10    23      33\n4     1      7     12   15    10      35"
          },
          "metadata": {}
        }
      ]
    },
    {
      "metadata": {
        "trusted": true,
        "scrolled": true
      },
      "cell_type": "code",
      "source": "len(net)",
      "execution_count": 50,
      "outputs": [
        {
          "output_type": "execute_result",
          "execution_count": 50,
          "data": {
            "text/plain": "20000"
          },
          "metadata": {}
        }
      ]
    },
    {
      "metadata": {
        "trusted": true,
        "scrolled": true
      },
      "cell_type": "code",
      "source": "target.head()",
      "execution_count": 51,
      "outputs": [
        {
          "output_type": "execute_result",
          "execution_count": 51,
          "data": {
            "text/html": "<div>\n<style scoped>\n    .dataframe tbody tr th:only-of-type {\n        vertical-align: middle;\n    }\n\n    .dataframe tbody tr th {\n        vertical-align: top;\n    }\n\n    .dataframe thead th {\n        text-align: right;\n    }\n</style>\n<table border=\"1\" class=\"dataframe\">\n  <thead>\n    <tr style=\"text-align: right;\">\n      <th></th>\n      <th>add</th>\n    </tr>\n  </thead>\n  <tbody>\n    <tr>\n      <th>0</th>\n      <td>7771</td>\n    </tr>\n    <tr>\n      <th>1</th>\n      <td>1771</td>\n    </tr>\n    <tr>\n      <th>2</th>\n      <td>7609</td>\n    </tr>\n    <tr>\n      <th>3</th>\n      <td>2659</td>\n    </tr>\n    <tr>\n      <th>4</th>\n      <td>1814</td>\n    </tr>\n  </tbody>\n</table>\n</div>",
            "text/plain": "    add\n0  7771\n1  1771\n2  7609\n3  2659\n4  1814"
          },
          "metadata": {}
        }
      ]
    },
    {
      "metadata": {
        "trusted": true
      },
      "cell_type": "code",
      "source": "",
      "execution_count": null,
      "outputs": []
    },
    {
      "metadata": {
        "trusted": true
      },
      "cell_type": "markdown",
      "source": "# train test split"
    },
    {
      "metadata": {
        "trusted": true
      },
      "cell_type": "code",
      "source": "from sklearn.model_selection import train_test_split",
      "execution_count": 52,
      "outputs": []
    },
    {
      "metadata": {
        "trusted": true
      },
      "cell_type": "code",
      "source": "X_train, X_test, y_train, y_test = train_test_split(net, target, test_size=0.3)",
      "execution_count": 53,
      "outputs": []
    },
    {
      "metadata": {
        "trusted": true
      },
      "cell_type": "code",
      "source": "len(X_train)",
      "execution_count": 54,
      "outputs": [
        {
          "output_type": "execute_result",
          "execution_count": 54,
          "data": {
            "text/plain": "14000"
          },
          "metadata": {}
        }
      ]
    },
    {
      "metadata": {
        "trusted": true
      },
      "cell_type": "code",
      "source": "len(X_test)\n",
      "execution_count": 55,
      "outputs": [
        {
          "output_type": "execute_result",
          "execution_count": 55,
          "data": {
            "text/plain": "6000"
          },
          "metadata": {}
        }
      ]
    },
    {
      "metadata": {
        "trusted": true
      },
      "cell_type": "code",
      "source": "\nlen(y_train)",
      "execution_count": 56,
      "outputs": [
        {
          "output_type": "execute_result",
          "execution_count": 56,
          "data": {
            "text/plain": "14000"
          },
          "metadata": {}
        }
      ]
    },
    {
      "metadata": {
        "trusted": true
      },
      "cell_type": "code",
      "source": "len(y_test)",
      "execution_count": 57,
      "outputs": [
        {
          "output_type": "execute_result",
          "execution_count": 57,
          "data": {
            "text/plain": "6000"
          },
          "metadata": {}
        }
      ]
    },
    {
      "metadata": {
        "trusted": true
      },
      "cell_type": "code",
      "source": "",
      "execution_count": null,
      "outputs": []
    },
    {
      "metadata": {
        "trusted": true
      },
      "cell_type": "code",
      "source": "",
      "execution_count": null,
      "outputs": []
    },
    {
      "metadata": {
        "trusted": true,
        "scrolled": true
      },
      "cell_type": "code",
      "source": "X_test",
      "execution_count": 58,
      "outputs": [
        {
          "output_type": "execute_result",
          "execution_count": 58,
          "data": {
            "text/html": "<div>\n<style scoped>\n    .dataframe tbody tr th:only-of-type {\n        vertical-align: middle;\n    }\n\n    .dataframe tbody tr th {\n        vertical-align: top;\n    }\n\n    .dataframe thead th {\n        text-align: right;\n    }\n</style>\n<table border=\"1\" class=\"dataframe\">\n  <thead>\n    <tr style=\"text-align: right;\">\n      <th></th>\n      <th>days</th>\n      <th>distt</th>\n      <th>month</th>\n      <th>day</th>\n      <th>hour</th>\n      <th>minute</th>\n    </tr>\n  </thead>\n  <tbody>\n    <tr>\n      <th>6027</th>\n      <td>3</td>\n      <td>3</td>\n      <td>11</td>\n      <td>23</td>\n      <td>1</td>\n      <td>30</td>\n    </tr>\n    <tr>\n      <th>509</th>\n      <td>1</td>\n      <td>4</td>\n      <td>1</td>\n      <td>12</td>\n      <td>11</td>\n      <td>0</td>\n    </tr>\n    <tr>\n      <th>9044</th>\n      <td>0</td>\n      <td>6</td>\n      <td>3</td>\n      <td>27</td>\n      <td>13</td>\n      <td>45</td>\n    </tr>\n    <tr>\n      <th>18911</th>\n      <td>2</td>\n      <td>2</td>\n      <td>1</td>\n      <td>17</td>\n      <td>3</td>\n      <td>0</td>\n    </tr>\n    <tr>\n      <th>5160</th>\n      <td>0</td>\n      <td>2</td>\n      <td>12</td>\n      <td>5</td>\n      <td>11</td>\n      <td>0</td>\n    </tr>\n    <tr>\n      <th>16536</th>\n      <td>3</td>\n      <td>5</td>\n      <td>3</td>\n      <td>1</td>\n      <td>12</td>\n      <td>0</td>\n    </tr>\n    <tr>\n      <th>18155</th>\n      <td>3</td>\n      <td>8</td>\n      <td>3</td>\n      <td>1</td>\n      <td>22</td>\n      <td>5</td>\n    </tr>\n    <tr>\n      <th>3466</th>\n      <td>0</td>\n      <td>7</td>\n      <td>11</td>\n      <td>7</td>\n      <td>0</td>\n      <td>28</td>\n    </tr>\n    <tr>\n      <th>14533</th>\n      <td>2</td>\n      <td>3</td>\n      <td>1</td>\n      <td>3</td>\n      <td>11</td>\n      <td>45</td>\n    </tr>\n    <tr>\n      <th>1743</th>\n      <td>0</td>\n      <td>7</td>\n      <td>1</td>\n      <td>30</td>\n      <td>3</td>\n      <td>0</td>\n    </tr>\n    <tr>\n      <th>1502</th>\n      <td>2</td>\n      <td>3</td>\n      <td>12</td>\n      <td>6</td>\n      <td>18</td>\n      <td>3</td>\n    </tr>\n    <tr>\n      <th>3173</th>\n      <td>4</td>\n      <td>8</td>\n      <td>2</td>\n      <td>12</td>\n      <td>19</td>\n      <td>24</td>\n    </tr>\n    <tr>\n      <th>1096</th>\n      <td>0</td>\n      <td>8</td>\n      <td>12</td>\n      <td>19</td>\n      <td>20</td>\n      <td>35</td>\n    </tr>\n    <tr>\n      <th>13739</th>\n      <td>3</td>\n      <td>8</td>\n      <td>3</td>\n      <td>15</td>\n      <td>22</td>\n      <td>30</td>\n    </tr>\n    <tr>\n      <th>12385</th>\n      <td>2</td>\n      <td>6</td>\n      <td>12</td>\n      <td>20</td>\n      <td>16</td>\n      <td>0</td>\n    </tr>\n    <tr>\n      <th>5957</th>\n      <td>0</td>\n      <td>7</td>\n      <td>1</td>\n      <td>2</td>\n      <td>14</td>\n      <td>55</td>\n    </tr>\n    <tr>\n      <th>15591</th>\n      <td>4</td>\n      <td>3</td>\n      <td>2</td>\n      <td>26</td>\n      <td>12</td>\n      <td>55</td>\n    </tr>\n    <tr>\n      <th>12720</th>\n      <td>3</td>\n      <td>2</td>\n      <td>11</td>\n      <td>9</td>\n      <td>18</td>\n      <td>0</td>\n    </tr>\n    <tr>\n      <th>2691</th>\n      <td>2</td>\n      <td>0</td>\n      <td>1</td>\n      <td>31</td>\n      <td>23</td>\n      <td>0</td>\n    </tr>\n    <tr>\n      <th>10291</th>\n      <td>1</td>\n      <td>4</td>\n      <td>4</td>\n      <td>6</td>\n      <td>18</td>\n      <td>48</td>\n    </tr>\n    <tr>\n      <th>11053</th>\n      <td>4</td>\n      <td>9</td>\n      <td>3</td>\n      <td>12</td>\n      <td>17</td>\n      <td>42</td>\n    </tr>\n    <tr>\n      <th>4331</th>\n      <td>4</td>\n      <td>7</td>\n      <td>1</td>\n      <td>1</td>\n      <td>18</td>\n      <td>44</td>\n    </tr>\n    <tr>\n      <th>11446</th>\n      <td>6</td>\n      <td>6</td>\n      <td>2</td>\n      <td>11</td>\n      <td>22</td>\n      <td>15</td>\n    </tr>\n    <tr>\n      <th>15589</th>\n      <td>1</td>\n      <td>3</td>\n      <td>4</td>\n      <td>20</td>\n      <td>7</td>\n      <td>40</td>\n    </tr>\n    <tr>\n      <th>4822</th>\n      <td>4</td>\n      <td>2</td>\n      <td>2</td>\n      <td>26</td>\n      <td>20</td>\n      <td>0</td>\n    </tr>\n    <tr>\n      <th>971</th>\n      <td>2</td>\n      <td>7</td>\n      <td>3</td>\n      <td>14</td>\n      <td>21</td>\n      <td>35</td>\n    </tr>\n    <tr>\n      <th>1060</th>\n      <td>6</td>\n      <td>8</td>\n      <td>5</td>\n      <td>6</td>\n      <td>1</td>\n      <td>0</td>\n    </tr>\n    <tr>\n      <th>2698</th>\n      <td>0</td>\n      <td>7</td>\n      <td>12</td>\n      <td>5</td>\n      <td>11</td>\n      <td>45</td>\n    </tr>\n    <tr>\n      <th>11472</th>\n      <td>6</td>\n      <td>7</td>\n      <td>12</td>\n      <td>3</td>\n      <td>18</td>\n      <td>30</td>\n    </tr>\n    <tr>\n      <th>12679</th>\n      <td>1</td>\n      <td>4</td>\n      <td>11</td>\n      <td>17</td>\n      <td>20</td>\n      <td>20</td>\n    </tr>\n    <tr>\n      <th>...</th>\n      <td>...</td>\n      <td>...</td>\n      <td>...</td>\n      <td>...</td>\n      <td>...</td>\n      <td>...</td>\n    </tr>\n    <tr>\n      <th>841</th>\n      <td>6</td>\n      <td>1</td>\n      <td>11</td>\n      <td>19</td>\n      <td>21</td>\n      <td>15</td>\n    </tr>\n    <tr>\n      <th>12269</th>\n      <td>3</td>\n      <td>0</td>\n      <td>12</td>\n      <td>7</td>\n      <td>1</td>\n      <td>0</td>\n    </tr>\n    <tr>\n      <th>16255</th>\n      <td>1</td>\n      <td>6</td>\n      <td>2</td>\n      <td>9</td>\n      <td>8</td>\n      <td>57</td>\n    </tr>\n    <tr>\n      <th>16566</th>\n      <td>5</td>\n      <td>5</td>\n      <td>3</td>\n      <td>10</td>\n      <td>17</td>\n      <td>11</td>\n    </tr>\n    <tr>\n      <th>3808</th>\n      <td>6</td>\n      <td>1</td>\n      <td>12</td>\n      <td>17</td>\n      <td>12</td>\n      <td>45</td>\n    </tr>\n    <tr>\n      <th>444</th>\n      <td>6</td>\n      <td>1</td>\n      <td>12</td>\n      <td>31</td>\n      <td>2</td>\n      <td>0</td>\n    </tr>\n    <tr>\n      <th>365</th>\n      <td>0</td>\n      <td>1</td>\n      <td>12</td>\n      <td>5</td>\n      <td>12</td>\n      <td>5</td>\n    </tr>\n    <tr>\n      <th>3662</th>\n      <td>6</td>\n      <td>4</td>\n      <td>11</td>\n      <td>19</td>\n      <td>22</td>\n      <td>0</td>\n    </tr>\n    <tr>\n      <th>4454</th>\n      <td>4</td>\n      <td>1</td>\n      <td>5</td>\n      <td>7</td>\n      <td>9</td>\n      <td>15</td>\n    </tr>\n    <tr>\n      <th>8698</th>\n      <td>6</td>\n      <td>7</td>\n      <td>11</td>\n      <td>19</td>\n      <td>6</td>\n      <td>5</td>\n    </tr>\n    <tr>\n      <th>18453</th>\n      <td>0</td>\n      <td>4</td>\n      <td>4</td>\n      <td>24</td>\n      <td>4</td>\n      <td>5</td>\n    </tr>\n    <tr>\n      <th>3791</th>\n      <td>4</td>\n      <td>2</td>\n      <td>1</td>\n      <td>15</td>\n      <td>20</td>\n      <td>27</td>\n    </tr>\n    <tr>\n      <th>8813</th>\n      <td>5</td>\n      <td>5</td>\n      <td>4</td>\n      <td>7</td>\n      <td>2</td>\n      <td>4</td>\n    </tr>\n    <tr>\n      <th>13205</th>\n      <td>3</td>\n      <td>0</td>\n      <td>11</td>\n      <td>23</td>\n      <td>0</td>\n      <td>55</td>\n    </tr>\n    <tr>\n      <th>12723</th>\n      <td>5</td>\n      <td>9</td>\n      <td>11</td>\n      <td>18</td>\n      <td>16</td>\n      <td>0</td>\n    </tr>\n    <tr>\n      <th>2540</th>\n      <td>2</td>\n      <td>4</td>\n      <td>1</td>\n      <td>17</td>\n      <td>16</td>\n      <td>30</td>\n    </tr>\n    <tr>\n      <th>5770</th>\n      <td>0</td>\n      <td>3</td>\n      <td>4</td>\n      <td>10</td>\n      <td>23</td>\n      <td>33</td>\n    </tr>\n    <tr>\n      <th>14984</th>\n      <td>2</td>\n      <td>9</td>\n      <td>1</td>\n      <td>3</td>\n      <td>17</td>\n      <td>25</td>\n    </tr>\n    <tr>\n      <th>9667</th>\n      <td>4</td>\n      <td>0</td>\n      <td>11</td>\n      <td>6</td>\n      <td>17</td>\n      <td>0</td>\n    </tr>\n    <tr>\n      <th>7773</th>\n      <td>0</td>\n      <td>7</td>\n      <td>3</td>\n      <td>13</td>\n      <td>14</td>\n      <td>30</td>\n    </tr>\n    <tr>\n      <th>19571</th>\n      <td>4</td>\n      <td>4</td>\n      <td>3</td>\n      <td>12</td>\n      <td>11</td>\n      <td>18</td>\n    </tr>\n    <tr>\n      <th>4218</th>\n      <td>2</td>\n      <td>8</td>\n      <td>11</td>\n      <td>8</td>\n      <td>10</td>\n      <td>34</td>\n    </tr>\n    <tr>\n      <th>6049</th>\n      <td>3</td>\n      <td>3</td>\n      <td>12</td>\n      <td>21</td>\n      <td>17</td>\n      <td>0</td>\n    </tr>\n    <tr>\n      <th>4699</th>\n      <td>6</td>\n      <td>1</td>\n      <td>1</td>\n      <td>14</td>\n      <td>23</td>\n      <td>47</td>\n    </tr>\n    <tr>\n      <th>11404</th>\n      <td>6</td>\n      <td>0</td>\n      <td>1</td>\n      <td>28</td>\n      <td>22</td>\n      <td>30</td>\n    </tr>\n    <tr>\n      <th>16452</th>\n      <td>0</td>\n      <td>1</td>\n      <td>1</td>\n      <td>2</td>\n      <td>21</td>\n      <td>0</td>\n    </tr>\n    <tr>\n      <th>7706</th>\n      <td>4</td>\n      <td>1</td>\n      <td>1</td>\n      <td>1</td>\n      <td>4</td>\n      <td>15</td>\n    </tr>\n    <tr>\n      <th>16700</th>\n      <td>2</td>\n      <td>0</td>\n      <td>3</td>\n      <td>14</td>\n      <td>23</td>\n      <td>0</td>\n    </tr>\n    <tr>\n      <th>18606</th>\n      <td>6</td>\n      <td>4</td>\n      <td>5</td>\n      <td>6</td>\n      <td>19</td>\n      <td>30</td>\n    </tr>\n    <tr>\n      <th>6217</th>\n      <td>3</td>\n      <td>4</td>\n      <td>11</td>\n      <td>9</td>\n      <td>22</td>\n      <td>16</td>\n    </tr>\n  </tbody>\n</table>\n<p>6000 rows × 6 columns</p>\n</div>",
            "text/plain": "       days  distt  month  day  hour  minute\n6027      3      3     11   23     1      30\n509       1      4      1   12    11       0\n9044      0      6      3   27    13      45\n18911     2      2      1   17     3       0\n5160      0      2     12    5    11       0\n16536     3      5      3    1    12       0\n18155     3      8      3    1    22       5\n3466      0      7     11    7     0      28\n14533     2      3      1    3    11      45\n1743      0      7      1   30     3       0\n1502      2      3     12    6    18       3\n3173      4      8      2   12    19      24\n1096      0      8     12   19    20      35\n13739     3      8      3   15    22      30\n12385     2      6     12   20    16       0\n5957      0      7      1    2    14      55\n15591     4      3      2   26    12      55\n12720     3      2     11    9    18       0\n2691      2      0      1   31    23       0\n10291     1      4      4    6    18      48\n11053     4      9      3   12    17      42\n4331      4      7      1    1    18      44\n11446     6      6      2   11    22      15\n15589     1      3      4   20     7      40\n4822      4      2      2   26    20       0\n971       2      7      3   14    21      35\n1060      6      8      5    6     1       0\n2698      0      7     12    5    11      45\n11472     6      7     12    3    18      30\n12679     1      4     11   17    20      20\n...     ...    ...    ...  ...   ...     ...\n841       6      1     11   19    21      15\n12269     3      0     12    7     1       0\n16255     1      6      2    9     8      57\n16566     5      5      3   10    17      11\n3808      6      1     12   17    12      45\n444       6      1     12   31     2       0\n365       0      1     12    5    12       5\n3662      6      4     11   19    22       0\n4454      4      1      5    7     9      15\n8698      6      7     11   19     6       5\n18453     0      4      4   24     4       5\n3791      4      2      1   15    20      27\n8813      5      5      4    7     2       4\n13205     3      0     11   23     0      55\n12723     5      9     11   18    16       0\n2540      2      4      1   17    16      30\n5770      0      3      4   10    23      33\n14984     2      9      1    3    17      25\n9667      4      0     11    6    17       0\n7773      0      7      3   13    14      30\n19571     4      4      3   12    11      18\n4218      2      8     11    8    10      34\n6049      3      3     12   21    17       0\n4699      6      1      1   14    23      47\n11404     6      0      1   28    22      30\n16452     0      1      1    2    21       0\n7706      4      1      1    1     4      15\n16700     2      0      3   14    23       0\n18606     6      4      5    6    19      30\n6217      3      4     11    9    22      16\n\n[6000 rows x 6 columns]"
          },
          "metadata": {}
        }
      ]
    },
    {
      "metadata": {
        "trusted": true
      },
      "cell_type": "code",
      "source": "",
      "execution_count": null,
      "outputs": []
    },
    {
      "metadata": {
        "trusted": true
      },
      "cell_type": "code",
      "source": "",
      "execution_count": null,
      "outputs": []
    },
    {
      "metadata": {
        "trusted": true
      },
      "cell_type": "code",
      "source": "",
      "execution_count": null,
      "outputs": []
    },
    {
      "metadata": {
        "trusted": true
      },
      "cell_type": "code",
      "source": "",
      "execution_count": null,
      "outputs": []
    },
    {
      "metadata": {
        "trusted": true
      },
      "cell_type": "code",
      "source": "",
      "execution_count": null,
      "outputs": []
    },
    {
      "metadata": {
        "trusted": true
      },
      "cell_type": "code",
      "source": "",
      "execution_count": null,
      "outputs": []
    },
    {
      "metadata": {
        "trusted": true
      },
      "cell_type": "code",
      "source": "",
      "execution_count": null,
      "outputs": []
    },
    {
      "metadata": {
        "trusted": true
      },
      "cell_type": "markdown",
      "source": "# model training and prediction"
    },
    {
      "metadata": {
        "trusted": true
      },
      "cell_type": "code",
      "source": "from sklearn import tree",
      "execution_count": 59,
      "outputs": []
    },
    {
      "metadata": {
        "trusted": true
      },
      "cell_type": "code",
      "source": "model=tree.DecisionTreeClassifier()",
      "execution_count": 60,
      "outputs": []
    },
    {
      "metadata": {
        "trusted": true,
        "scrolled": true
      },
      "cell_type": "code",
      "source": "model.fit(X_train,y_train)",
      "execution_count": 61,
      "outputs": [
        {
          "output_type": "execute_result",
          "execution_count": 61,
          "data": {
            "text/plain": "DecisionTreeClassifier(class_weight=None, criterion='gini', max_depth=None,\n            max_features=None, max_leaf_nodes=None,\n            min_impurity_decrease=0.0, min_impurity_split=None,\n            min_samples_leaf=1, min_samples_split=2,\n            min_weight_fraction_leaf=0.0, presort=False, random_state=None,\n            splitter='best')"
          },
          "metadata": {}
        }
      ]
    },
    {
      "metadata": {
        "trusted": true
      },
      "cell_type": "code",
      "source": "",
      "execution_count": null,
      "outputs": []
    },
    {
      "metadata": {
        "trusted": true
      },
      "cell_type": "code",
      "source": "model.predict([[3,0,5,10,23,59]])",
      "execution_count": 62,
      "outputs": [
        {
          "output_type": "execute_result",
          "execution_count": 62,
          "data": {
            "text/plain": "array([7106])"
          },
          "metadata": {}
        }
      ]
    },
    {
      "metadata": {
        "trusted": true
      },
      "cell_type": "code",
      "source": "model.predict([[3,7,10,26,1,0]])\n#days,distt,month,date,hour,minute",
      "execution_count": 63,
      "outputs": [
        {
          "output_type": "execute_result",
          "execution_count": 63,
          "data": {
            "text/plain": "array([78])"
          },
          "metadata": {}
        }
      ]
    },
    {
      "metadata": {
        "trusted": true
      },
      "cell_type": "code",
      "source": "y_predict=model.predict(X_test)",
      "execution_count": 64,
      "outputs": []
    },
    {
      "metadata": {
        "trusted": true
      },
      "cell_type": "code",
      "source": "from sklearn.metrics import confusion_matrix",
      "execution_count": 65,
      "outputs": []
    },
    {
      "metadata": {
        "trusted": true
      },
      "cell_type": "code",
      "source": "f=confusion_matrix(y_test, y_predict)",
      "execution_count": 66,
      "outputs": []
    },
    {
      "metadata": {
        "trusted": true
      },
      "cell_type": "code",
      "source": "# plt.figure(figsize=(10,6))\n# snm.heatmap(f,annot=True)\n# plt.xlabel=(\"predicted\")\n# plt.ylabel(\"truth\")\nf",
      "execution_count": 67,
      "outputs": [
        {
          "output_type": "execute_result",
          "execution_count": 67,
          "data": {
            "text/plain": "array([[1, 0, 0, ..., 0, 0, 0],\n       [0, 1, 0, ..., 0, 0, 0],\n       [0, 0, 0, ..., 0, 0, 0],\n       ...,\n       [0, 0, 0, ..., 0, 0, 0],\n       [0, 0, 0, ..., 0, 0, 0],\n       [0, 0, 0, ..., 0, 0, 0]])"
          },
          "metadata": {}
        }
      ]
    },
    {
      "metadata": {
        "trusted": true
      },
      "cell_type": "code",
      "source": "",
      "execution_count": null,
      "outputs": []
    },
    {
      "metadata": {
        "trusted": true
      },
      "cell_type": "code",
      "source": "",
      "execution_count": null,
      "outputs": []
    },
    {
      "metadata": {
        "trusted": true
      },
      "cell_type": "code",
      "source": "",
      "execution_count": null,
      "outputs": []
    },
    {
      "metadata": {
        "trusted": true
      },
      "cell_type": "code",
      "source": "from sklearn.naive_bayes import GaussianNB",
      "execution_count": 68,
      "outputs": []
    },
    {
      "metadata": {
        "trusted": true
      },
      "cell_type": "code",
      "source": "gnb = GaussianNB()",
      "execution_count": 69,
      "outputs": []
    },
    {
      "metadata": {
        "trusted": true,
        "scrolled": true
      },
      "cell_type": "code",
      "source": " y_pred = gnb.fit(X_train, y_train).predict(X_test)",
      "execution_count": 70,
      "outputs": [
        {
          "output_type": "stream",
          "text": "/home/nbuser/anaconda3_501/lib/python3.6/site-packages/sklearn/utils/validation.py:761: DataConversionWarning: A column-vector y was passed when a 1d array was expected. Please change the shape of y to (n_samples, ), for example using ravel().\n  y = column_or_1d(y, warn=True)\n",
          "name": "stderr"
        }
      ]
    },
    {
      "metadata": {
        "trusted": true
      },
      "cell_type": "code",
      "source": "f2=confusion_matrix(y_test, y_pred)",
      "execution_count": 71,
      "outputs": []
    },
    {
      "metadata": {
        "trusted": true
      },
      "cell_type": "code",
      "source": "f2",
      "execution_count": 72,
      "outputs": [
        {
          "output_type": "execute_result",
          "execution_count": 72,
          "data": {
            "text/plain": "array([[0, 0, 0, ..., 0, 0, 0],\n       [0, 1, 0, ..., 0, 0, 0],\n       [0, 0, 0, ..., 0, 0, 0],\n       ...,\n       [0, 0, 0, ..., 0, 0, 0],\n       [0, 0, 0, ..., 0, 0, 0],\n       [0, 0, 0, ..., 0, 0, 0]])"
          },
          "metadata": {}
        }
      ]
    },
    {
      "metadata": {
        "trusted": true
      },
      "cell_type": "code",
      "source": "",
      "execution_count": null,
      "outputs": []
    },
    {
      "metadata": {
        "trusted": true
      },
      "cell_type": "code",
      "source": "",
      "execution_count": null,
      "outputs": []
    },
    {
      "metadata": {
        "trusted": true
      },
      "cell_type": "code",
      "source": "",
      "execution_count": null,
      "outputs": []
    },
    {
      "metadata": {
        "trusted": true
      },
      "cell_type": "code",
      "source": "",
      "execution_count": null,
      "outputs": []
    },
    {
      "metadata": {
        "trusted": true
      },
      "cell_type": "code",
      "source": "",
      "execution_count": null,
      "outputs": []
    },
    {
      "metadata": {
        "trusted": true
      },
      "cell_type": "code",
      "source": "",
      "execution_count": null,
      "outputs": []
    }
  ],
  "metadata": {
    "kernelspec": {
      "name": "python36",
      "display_name": "Python 3.6",
      "language": "python"
    },
    "language_info": {
      "mimetype": "text/x-python",
      "nbconvert_exporter": "python",
      "name": "python",
      "pygments_lexer": "ipython3",
      "version": "3.6.6",
      "file_extension": ".py",
      "codemirror_mode": {
        "version": 3,
        "name": "ipython"
      }
    }
  },
  "nbformat": 4,
  "nbformat_minor": 2
}